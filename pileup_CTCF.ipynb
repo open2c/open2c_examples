{
 "cells": [
  {
   "cell_type": "markdown",
   "metadata": {},
   "source": [
    "# Pileups and average features"
   ]
  },
  {
   "cell_type": "markdown",
   "metadata": {},
   "source": [
    "Welcome to the cooltools pileups notebook!\n",
    " \n",
    "Averaging Hi-C/Micro-C maps allows the quantification of general patterns observed in the maps. Averaging comes in various forms: contact-vs-distance plots, saddle plots, and pileup plots. **Pileup plots** are the averaged local Hi-C map over the 2D windows (i.e. **snippets**). These are also referred to as \"average Hi-C maps\". Pileups can be useful for determining the relationship between features (e.g. CTCF and TAD boundaries). Pileups can also be beneficial for reliably observing features in low-coverage Hi-C or single-cell HiC maps.\n",
    "\n",
    "For pileups, we retrieve local windows that are centered at the **anchors**. We call this procedure **snipping**. Anchors can be ChIP-Seq binding sites, anchors of dots, or any other genomic features. Pileups come in two varieties: \n",
    "\n",
    "- **On-diagonal pileup**. Each window is centered at the pixel located at the anchor position, at the main diagonal. Both coordinates of the window center are equivalent to the bin of the anchor. \n",
    "- **Off-diagonal pileup**. Each window is centered at the pixel with one anchor as a left coordinate and another anchor as a right coordinate. \n",
    "\n",
    "Typically, the sizes of windows are equivalent. After the selection of windows, we average them elementwise. "
   ]
  },
  {
   "cell_type": "markdown",
   "metadata": {},
   "source": [
    "Content:\n",
    "\n",
    "1. Download data\n",
    "2. Load data\n",
    "    - Load genomic regions\n",
    "    - Load features for anchors\n",
    "3. On-diagonal pipeup of CTCF\n",
    "    - On-diagonal pileup of ICed Hi-C interactions\n",
    "    - On-diagonal pileup of observed over expected interactions\n",
    "    - Inspect the snips\n",
    "4. Off-diagonal pileup of CTCF"
   ]
  },
  {
   "cell_type": "code",
   "execution_count": 1,
   "metadata": {
    "tags": [
     "remove_cell"
    ]
   },
   "outputs": [],
   "source": [
    "# If you are a developer, you may want to reload the packages on a fly. \n",
    "# Jupyter has a magic for this particular purpose:\n",
    "%load_ext autoreload\n",
    "%autoreload 2"
   ]
  },
  {
   "cell_type": "code",
   "execution_count": 2,
   "metadata": {},
   "outputs": [],
   "source": [
    "# import standard python libraries\n",
    "import numpy as np\n",
    "import matplotlib.pyplot as plt\n",
    "import pandas as pd\n",
    "import seaborn as sns"
   ]
  },
  {
   "cell_type": "code",
   "execution_count": 3,
   "metadata": {},
   "outputs": [],
   "source": [
    "# import libraries for biological data analysis\n",
    "import cooler\n",
    "import bioframe\n",
    "\n",
    "import cooltools\n",
    "\n",
    "from packaging import version\n",
    "if version.parse(cooltools.__version__) < version.parse('0.5.2'):\n",
    "    raise AssertionError(\"tutorials rely on cooltools version 0.5.2 or higher,\"+\n",
    "                         \"please check your cooltools version and update to the latest\")\n"
   ]
  },
  {
   "cell_type": "markdown",
   "metadata": {},
   "source": [
    "## Download data\n",
    "\n",
    "For this example notebook, we collected the data from [immortalized human foreskin fibroblast cell line HFFc6](https://data.4dnucleome.org/ontology-terms/EFO:0009318/):\n",
    "\n",
    "- Micro-C data from [Krietenstein et al. 2020](https://pubmed.ncbi.nlm.nih.gov/32213324/)\n",
    "- ChIP-Seq for CTCF from [ENCODE ENCSR000DWQ](https://www.encodeproject.org/experiments/ENCSR000DWQ/)\n",
    "\n",
    "You can automatically download test datasets with cooltools. More information on the files and how they were obtained is available from the datasets description. \n"
   ]
  },
  {
   "cell_type": "code",
   "execution_count": 4,
   "metadata": {},
   "outputs": [
    {
     "name": "stdout",
     "output_type": "stream",
     "text": [
      "1) HFF_MicroC : Micro-C data from HFF human cells for two chromosomes (hg38) in a multi-resolution mcool format. \n",
      "\tDownloaded from https://osf.io/3h9js/download \n",
      "\tStored as test.mcool \n",
      "\tOriginal md5sum: e4a0fc25c8dc3d38e9065fd74c565dd1\n",
      "\n",
      "2) HFF_CTCF_fc : ChIP-Seq fold change over input with CTCF antibodies in HFF cells (hg38). Downloaded from ENCODE ENCSR000DWQ, ENCFF761RHS.bigWig file \n",
      "\tDownloaded from https://osf.io/w92u3/download \n",
      "\tStored as test_CTCF.bigWig \n",
      "\tOriginal md5sum: 62429de974b5b4a379578cc85adc65a3\n",
      "\n",
      "3) HFF_CTCF_binding : Binding sites called from CTCF ChIP-Seq peaks for HFF cells (hg38). Peaks are from ENCODE ENCSR000DWQ, ENCFF498QCT.bed file. The motifs are called with gimmemotifs (options --nreport 1 --cutoff 0), with JASPAR pwm MA0139. \n",
      "\tDownloaded from https://osf.io/c9pwe/download \n",
      "\tStored as test_CTCF.bed.gz \n",
      "\tOriginal md5sum: 61ecfdfa821571a8e0ea362e8fd48f63\n",
      "\n"
     ]
    }
   ],
   "source": [
    "# Print available datasets for download\n",
    "cooltools.print_available_datasets()"
   ]
  },
  {
   "cell_type": "code",
   "execution_count": 5,
   "metadata": {},
   "outputs": [],
   "source": [
    "# Downloading test data for pileups\n",
    "# cache = True will doanload the data only if it was not previously downloaded\n",
    "data_dir = './data/'\n",
    "cool_file = cooltools.download_data(\"HFF_MicroC\", cache=True, data_dir=data_dir)\n",
    "ctcf_peaks_file = cooltools.download_data(\"HFF_CTCF_binding\", cache=True, data_dir=data_dir)\n",
    "ctcf_fc_file = cooltools.download_data(\"HFF_CTCF_fc\", cache=True, data_dir=data_dir)"
   ]
  },
  {
   "cell_type": "markdown",
   "metadata": {},
   "source": [
    "## Load data"
   ]
  },
  {
   "cell_type": "markdown",
   "metadata": {},
   "source": [
    "### Load genomic regions\n",
    "\n",
    "The pileup function needs **genomic regions**. Why?\n",
    "\n",
    "- First, pileup uses regions for parallelization of snipping. Different genomic regions are loaded simultaneously by different processes, and the snipping can be done in parallel. \n",
    "- Second, the observed over expected pileup requires calculating expected interactions before snipping (P(s), in other words). Typically, P(s) is calculated separately for each chromosome arm as inter-arms interactions might be affected by strong insulation of centromeres or Rabl configuration. \n",
    "\n",
    "For species that do not have information on chromosome arms, or have *telocentric chromosomes* (e.g., mouse), you may want to use full chromosomes instead. "
   ]
  },
  {
   "cell_type": "code",
   "execution_count": 6,
   "metadata": {},
   "outputs": [],
   "source": [
    "# Open cool file with Micro-C data:\n",
    "clr = cooler.Cooler(data_dir+'/test.mcool::/resolutions/10000')\n",
    "# Set up selected data resolution:\n",
    "resolution = clr.binsize"
   ]
  },
  {
   "cell_type": "code",
   "execution_count": 7,
   "metadata": {},
   "outputs": [],
   "source": [
    "# Use bioframe to fetch the genomic features.\n",
    "hg38_chromsizes = bioframe.fetch_chromsizes('hg38')\n",
    "hg38_cens = bioframe.fetch_centromeres('hg38')\n",
    "hg38_arms = bioframe.make_chromarms(hg38_chromsizes, hg38_cens)\n",
    "\n",
    "# Select only chromosomes that are present in the cooler. \n",
    "# This step is typically not required! we call it only because the test data are reduced. \n",
    "hg38_arms = hg38_arms.set_index(\"chrom\").loc[clr.chromnames].reset_index()"
   ]
  },
  {
   "cell_type": "markdown",
   "metadata": {},
   "source": [
    "### Load features for anchors\n",
    "\n",
    "Construction of the pileup requires  genomic **features** that will be used for centering of the **snippets**. In this example, we will use *positions of motifs in CTCF peaks* as features. "
   ]
  },
  {
   "cell_type": "code",
   "execution_count": 8,
   "metadata": {
    "scrolled": true
   },
   "outputs": [
    {
     "data": {
      "text/html": [
       "<div>\n",
       "<style scoped>\n",
       "    .dataframe tbody tr th:only-of-type {\n",
       "        vertical-align: middle;\n",
       "    }\n",
       "\n",
       "    .dataframe tbody tr th {\n",
       "        vertical-align: top;\n",
       "    }\n",
       "\n",
       "    .dataframe thead th {\n",
       "        text-align: right;\n",
       "    }\n",
       "</style>\n",
       "<table border=\"1\" class=\"dataframe\">\n",
       "  <thead>\n",
       "    <tr style=\"text-align: right;\">\n",
       "      <th></th>\n",
       "      <th>chrom</th>\n",
       "      <th>start</th>\n",
       "      <th>end</th>\n",
       "      <th>name</th>\n",
       "      <th>score</th>\n",
       "      <th>strand</th>\n",
       "      <th>mid</th>\n",
       "    </tr>\n",
       "  </thead>\n",
       "  <tbody>\n",
       "    <tr>\n",
       "      <th>17271</th>\n",
       "      <td>chr17</td>\n",
       "      <td>118485</td>\n",
       "      <td>118504</td>\n",
       "      <td>MA0139.1_CTCF_human</td>\n",
       "      <td>12.384042</td>\n",
       "      <td>-</td>\n",
       "      <td>118494</td>\n",
       "    </tr>\n",
       "    <tr>\n",
       "      <th>17272</th>\n",
       "      <td>chr17</td>\n",
       "      <td>144002</td>\n",
       "      <td>144021</td>\n",
       "      <td>MA0139.1_CTCF_human</td>\n",
       "      <td>11.542617</td>\n",
       "      <td>+</td>\n",
       "      <td>144011</td>\n",
       "    </tr>\n",
       "    <tr>\n",
       "      <th>17273</th>\n",
       "      <td>chr17</td>\n",
       "      <td>163676</td>\n",
       "      <td>163695</td>\n",
       "      <td>MA0139.1_CTCF_human</td>\n",
       "      <td>5.294219</td>\n",
       "      <td>-</td>\n",
       "      <td>163685</td>\n",
       "    </tr>\n",
       "    <tr>\n",
       "      <th>17274</th>\n",
       "      <td>chr17</td>\n",
       "      <td>164711</td>\n",
       "      <td>164730</td>\n",
       "      <td>MA0139.1_CTCF_human</td>\n",
       "      <td>11.889376</td>\n",
       "      <td>+</td>\n",
       "      <td>164720</td>\n",
       "    </tr>\n",
       "    <tr>\n",
       "      <th>17275</th>\n",
       "      <td>chr17</td>\n",
       "      <td>309416</td>\n",
       "      <td>309435</td>\n",
       "      <td>MA0139.1_CTCF_human</td>\n",
       "      <td>7.879575</td>\n",
       "      <td>-</td>\n",
       "      <td>309425</td>\n",
       "    </tr>\n",
       "  </tbody>\n",
       "</table>\n",
       "</div>"
      ],
      "text/plain": [
       "       chrom   start     end                 name      score strand     mid\n",
       "17271  chr17  118485  118504  MA0139.1_CTCF_human  12.384042      -  118494\n",
       "17272  chr17  144002  144021  MA0139.1_CTCF_human  11.542617      +  144011\n",
       "17273  chr17  163676  163695  MA0139.1_CTCF_human   5.294219      -  163685\n",
       "17274  chr17  164711  164730  MA0139.1_CTCF_human  11.889376      +  164720\n",
       "17275  chr17  309416  309435  MA0139.1_CTCF_human   7.879575      -  309425"
      ]
     },
     "execution_count": 8,
     "metadata": {},
     "output_type": "execute_result"
    }
   ],
   "source": [
    "# Read CTCF peaks data and select only chromosomes present in cooler:\n",
    "ctcf = bioframe.read_table(ctcf_peaks_file, schema='bed').query(f'chrom in {clr.chromnames}')\n",
    "ctcf['mid'] = (ctcf.end+ctcf.start)//2\n",
    "ctcf.head()"
   ]
  },
  {
   "cell_type": "markdown",
   "metadata": {},
   "source": [
    "#### Feature inspection and filtering\n",
    "\n",
    "Since we have both the list of strongest motifs of CTCF located in CTCF ChIP-Seq and the fold change over input for the genome, we have two characteristics of each feature: \n",
    "\n",
    "- score of the motif\n",
    "- CTCF ChIP-Seq fold-change over input\n",
    "\n",
    "Let's take a look at joint distribution of these scores: "
   ]
  },
  {
   "cell_type": "code",
   "execution_count": 9,
   "metadata": {},
   "outputs": [],
   "source": [
    "import bbi\n",
    "from scipy.stats import linregress"
   ]
  },
  {
   "cell_type": "code",
   "execution_count": 10,
   "metadata": {},
   "outputs": [],
   "source": [
    "# Get CTCF ChIP-Seq fold-change over input for genomic regions centered at the positions of the motifs\n",
    "\n",
    "flank = 250 # Length of flank to one side from the boundary, in basepairs\n",
    "ctcf_chip_signal = bbi.stackup(\n",
    "    ctcf_fc_file, \n",
    "    ctcf.chrom, \n",
    "    ctcf.mid-flank, \n",
    "    ctcf.mid+flank, \n",
    "    bins=1)\n",
    "\n",
    "ctcf['FC_score'] = ctcf_chip_signal"
   ]
  },
  {
   "cell_type": "code",
   "execution_count": 11,
   "metadata": {},
   "outputs": [],
   "source": [
    "ctcf['quartile_score']    = pd.qcut(ctcf['score'], 4, labels=False) + 1\n",
    "ctcf['quartile_FC_score'] = pd.qcut(ctcf['FC_score'], 4, labels=False) + 1\n",
    "ctcf['peaks_importance'] = ctcf.apply(\n",
    "    lambda x: 'Top by both scores' if x.quartile_score==4 and x.quartile_FC_score==4 else\n",
    "                'Top by Motif score' if x.quartile_score==4 else\n",
    "                'Top by FC score' if x.quartile_FC_score==4 else 'Ordinary peaks', axis=1\n",
    ")"
   ]
  },
  {
   "cell_type": "code",
   "execution_count": 12,
   "metadata": {},
   "outputs": [
    {
     "name": "stderr",
     "output_type": "stream",
     "text": [
      "/Users/geofffudenberg/anaconda3/envs/open2c/lib/python3.8/site-packages/seaborn/_decorators.py:36: FutureWarning: Pass the following variables as keyword args: x, y. From version 0.12, the only valid positional argument will be `data`, and passing other arguments without an explicit keyword will result in an error or misinterpretation.\n",
      "  warnings.warn(\n"
     ]
    },
    {
     "data": {
      "image/png": "[encoded data removed]",
      "text/plain": [
       "<Figure size 432x288 with 1 Axes>"
      ]
     },
     "metadata": {
      "needs_background": "light"
     },
     "output_type": "display_data"
    }
   ],
   "source": [
    "x = ctcf['score']\n",
    "y = np.log(ctcf['FC_score'])\n",
    "\n",
    "fig, ax = plt.subplots()\n",
    "\n",
    "sns.scatterplot(x=x, y=y, hue=ctcf['peaks_importance'],\n",
    "    s=2,\n",
    "    alpha=0.5,\n",
    "    label='All peaks', \n",
    "    ax=ax\n",
    ")\n",
    "\n",
    "slope, intercept, r, p, se = linregress(x, y)\n",
    "\n",
    "ax.plot([-6, 19], [intercept-6*slope, intercept+19*slope], \n",
    "        alpha=0.5,\n",
    "        color='black',\n",
    "        label=f\"Regression line, R value: {r:.2f}\")\n",
    "\n",
    "ax.set(\n",
    "    xlabel='Motif score',\n",
    "    ylabel='ChIP-Seq fold-change over input')\n",
    "\n",
    "ax.legend(bbox_to_anchor=(1.01,1), loc=\"upper left\")\n",
    "\n",
    "plt.show()"
   ]
  },
  {
   "cell_type": "code",
   "execution_count": 13,
   "metadata": {},
   "outputs": [
    {
     "data": {
      "text/html": [
       "<div>\n",
       "<style scoped>\n",
       "    .dataframe tbody tr th:only-of-type {\n",
       "        vertical-align: middle;\n",
       "    }\n",
       "\n",
       "    .dataframe tbody tr th {\n",
       "        vertical-align: top;\n",
       "    }\n",
       "\n",
       "    .dataframe thead th {\n",
       "        text-align: right;\n",
       "    }\n",
       "</style>\n",
       "<table border=\"1\" class=\"dataframe\">\n",
       "  <thead>\n",
       "    <tr style=\"text-align: right;\">\n",
       "      <th></th>\n",
       "      <th>chrom</th>\n",
       "      <th>start</th>\n",
       "      <th>end</th>\n",
       "      <th>name</th>\n",
       "      <th>score</th>\n",
       "      <th>strand</th>\n",
       "      <th>mid</th>\n",
       "      <th>FC_score</th>\n",
       "      <th>quartile_score</th>\n",
       "      <th>quartile_FC_score</th>\n",
       "      <th>peaks_importance</th>\n",
       "    </tr>\n",
       "  </thead>\n",
       "  <tbody>\n",
       "    <tr>\n",
       "      <th>659</th>\n",
       "      <td>chr17</td>\n",
       "      <td>8158938</td>\n",
       "      <td>8158957</td>\n",
       "      <td>MA0139.1_CTCF_human</td>\n",
       "      <td>13.276979</td>\n",
       "      <td>-</td>\n",
       "      <td>8158947</td>\n",
       "      <td>25.056849</td>\n",
       "      <td>4</td>\n",
       "      <td>4</td>\n",
       "      <td>Top by both scores</td>\n",
       "    </tr>\n",
       "    <tr>\n",
       "      <th>660</th>\n",
       "      <td>chr2</td>\n",
       "      <td>176127201</td>\n",
       "      <td>176127220</td>\n",
       "      <td>MA0139.1_CTCF_human</td>\n",
       "      <td>12.820343</td>\n",
       "      <td>+</td>\n",
       "      <td>176127210</td>\n",
       "      <td>25.027294</td>\n",
       "      <td>4</td>\n",
       "      <td>4</td>\n",
       "      <td>Top by both scores</td>\n",
       "    </tr>\n",
       "    <tr>\n",
       "      <th>661</th>\n",
       "      <td>chr17</td>\n",
       "      <td>38322364</td>\n",
       "      <td>38322383</td>\n",
       "      <td>MA0139.1_CTCF_human</td>\n",
       "      <td>13.534864</td>\n",
       "      <td>-</td>\n",
       "      <td>38322373</td>\n",
       "      <td>25.010430</td>\n",
       "      <td>4</td>\n",
       "      <td>4</td>\n",
       "      <td>Top by both scores</td>\n",
       "    </tr>\n",
       "    <tr>\n",
       "      <th>662</th>\n",
       "      <td>chr2</td>\n",
       "      <td>119265336</td>\n",
       "      <td>119265355</td>\n",
       "      <td>MA0139.1_CTCF_human</td>\n",
       "      <td>13.739862</td>\n",
       "      <td>-</td>\n",
       "      <td>119265345</td>\n",
       "      <td>24.980141</td>\n",
       "      <td>4</td>\n",
       "      <td>4</td>\n",
       "      <td>Top by both scores</td>\n",
       "    </tr>\n",
       "    <tr>\n",
       "      <th>663</th>\n",
       "      <td>chr2</td>\n",
       "      <td>118003514</td>\n",
       "      <td>118003533</td>\n",
       "      <td>MA0139.1_CTCF_human</td>\n",
       "      <td>12.646685</td>\n",
       "      <td>-</td>\n",
       "      <td>118003523</td>\n",
       "      <td>24.957502</td>\n",
       "      <td>4</td>\n",
       "      <td>4</td>\n",
       "      <td>Top by both scores</td>\n",
       "    </tr>\n",
       "  </tbody>\n",
       "</table>\n",
       "</div>"
      ],
      "text/plain": [
       "     chrom      start        end                 name      score strand  \\\n",
       "659  chr17    8158938    8158957  MA0139.1_CTCF_human  13.276979      -   \n",
       "660   chr2  176127201  176127220  MA0139.1_CTCF_human  12.820343      +   \n",
       "661  chr17   38322364   38322383  MA0139.1_CTCF_human  13.534864      -   \n",
       "662   chr2  119265336  119265355  MA0139.1_CTCF_human  13.739862      -   \n",
       "663   chr2  118003514  118003533  MA0139.1_CTCF_human  12.646685      -   \n",
       "\n",
       "           mid   FC_score  quartile_score  quartile_FC_score  \\\n",
       "659    8158947  25.056849               4                  4   \n",
       "660  176127210  25.027294               4                  4   \n",
       "661   38322373  25.010430               4                  4   \n",
       "662  119265345  24.980141               4                  4   \n",
       "663  118003523  24.957502               4                  4   \n",
       "\n",
       "       peaks_importance  \n",
       "659  Top by both scores  \n",
       "660  Top by both scores  \n",
       "661  Top by both scores  \n",
       "662  Top by both scores  \n",
       "663  Top by both scores  "
      ]
     },
     "execution_count": 13,
     "metadata": {},
     "output_type": "execute_result"
    }
   ],
   "source": [
    "# Select the CTCF sites that are in top quartile by both the ChIP-Seq data and motif score\n",
    "\n",
    "sites = ctcf[ctcf['peaks_importance']=='Top by both scores']\\\n",
    "    .sort_values('FC_score', ascending=False)\\\n",
    "    .reset_index(drop=True)\n",
    "sites.tail()"
   ]
  },
  {
   "cell_type": "code",
   "execution_count": 14,
   "metadata": {},
   "outputs": [
    {
     "data": {
      "text/html": [
       "<div>\n",
       "<style scoped>\n",
       "    .dataframe tbody tr th:only-of-type {\n",
       "        vertical-align: middle;\n",
       "    }\n",
       "\n",
       "    .dataframe tbody tr th {\n",
       "        vertical-align: top;\n",
       "    }\n",
       "\n",
       "    .dataframe thead th {\n",
       "        text-align: right;\n",
       "    }\n",
       "</style>\n",
       "<table border=\"1\" class=\"dataframe\">\n",
       "  <thead>\n",
       "    <tr style=\"text-align: right;\">\n",
       "      <th></th>\n",
       "      <th>chrom</th>\n",
       "      <th>start</th>\n",
       "      <th>end</th>\n",
       "      <th>name</th>\n",
       "      <th>score</th>\n",
       "      <th>strand</th>\n",
       "      <th>mid</th>\n",
       "      <th>FC_score</th>\n",
       "      <th>quartile_score</th>\n",
       "      <th>quartile_FC_score</th>\n",
       "      <th>peaks_importance</th>\n",
       "      <th>cluster</th>\n",
       "      <th>cluster_start</th>\n",
       "      <th>cluster_end</th>\n",
       "    </tr>\n",
       "  </thead>\n",
       "  <tbody>\n",
       "    <tr>\n",
       "      <th>608</th>\n",
       "      <td>chr17</td>\n",
       "      <td>8158938</td>\n",
       "      <td>8158957</td>\n",
       "      <td>MA0139.1_CTCF_human</td>\n",
       "      <td>13.276979</td>\n",
       "      <td>-</td>\n",
       "      <td>8158947</td>\n",
       "      <td>25.056849</td>\n",
       "      <td>4</td>\n",
       "      <td>4</td>\n",
       "      <td>Top by both scores</td>\n",
       "      <td>34</td>\n",
       "      <td>8158938</td>\n",
       "      <td>8158957</td>\n",
       "    </tr>\n",
       "    <tr>\n",
       "      <th>609</th>\n",
       "      <td>chr2</td>\n",
       "      <td>176127201</td>\n",
       "      <td>176127220</td>\n",
       "      <td>MA0139.1_CTCF_human</td>\n",
       "      <td>12.820343</td>\n",
       "      <td>+</td>\n",
       "      <td>176127210</td>\n",
       "      <td>25.027294</td>\n",
       "      <td>4</td>\n",
       "      <td>4</td>\n",
       "      <td>Top by both scores</td>\n",
       "      <td>515</td>\n",
       "      <td>176127201</td>\n",
       "      <td>176127220</td>\n",
       "    </tr>\n",
       "    <tr>\n",
       "      <th>610</th>\n",
       "      <td>chr17</td>\n",
       "      <td>38322364</td>\n",
       "      <td>38322383</td>\n",
       "      <td>MA0139.1_CTCF_human</td>\n",
       "      <td>13.534864</td>\n",
       "      <td>-</td>\n",
       "      <td>38322373</td>\n",
       "      <td>25.010430</td>\n",
       "      <td>4</td>\n",
       "      <td>4</td>\n",
       "      <td>Top by both scores</td>\n",
       "      <td>104</td>\n",
       "      <td>38322364</td>\n",
       "      <td>38322383</td>\n",
       "    </tr>\n",
       "    <tr>\n",
       "      <th>611</th>\n",
       "      <td>chr2</td>\n",
       "      <td>119265336</td>\n",
       "      <td>119265355</td>\n",
       "      <td>MA0139.1_CTCF_human</td>\n",
       "      <td>13.739862</td>\n",
       "      <td>-</td>\n",
       "      <td>119265345</td>\n",
       "      <td>24.980141</td>\n",
       "      <td>4</td>\n",
       "      <td>4</td>\n",
       "      <td>Top by both scores</td>\n",
       "      <td>465</td>\n",
       "      <td>119265336</td>\n",
       "      <td>119265355</td>\n",
       "    </tr>\n",
       "    <tr>\n",
       "      <th>612</th>\n",
       "      <td>chr2</td>\n",
       "      <td>118003514</td>\n",
       "      <td>118003533</td>\n",
       "      <td>MA0139.1_CTCF_human</td>\n",
       "      <td>12.646685</td>\n",
       "      <td>-</td>\n",
       "      <td>118003523</td>\n",
       "      <td>24.957502</td>\n",
       "      <td>4</td>\n",
       "      <td>4</td>\n",
       "      <td>Top by both scores</td>\n",
       "      <td>462</td>\n",
       "      <td>118003514</td>\n",
       "      <td>118003533</td>\n",
       "    </tr>\n",
       "  </tbody>\n",
       "</table>\n",
       "</div>"
      ],
      "text/plain": [
       "     chrom      start        end                 name      score strand  \\\n",
       "608  chr17    8158938    8158957  MA0139.1_CTCF_human  13.276979      -   \n",
       "609   chr2  176127201  176127220  MA0139.1_CTCF_human  12.820343      +   \n",
       "610  chr17   38322364   38322383  MA0139.1_CTCF_human  13.534864      -   \n",
       "611   chr2  119265336  119265355  MA0139.1_CTCF_human  13.739862      -   \n",
       "612   chr2  118003514  118003533  MA0139.1_CTCF_human  12.646685      -   \n",
       "\n",
       "           mid   FC_score  quartile_score  quartile_FC_score  \\\n",
       "608    8158947  25.056849               4                  4   \n",
       "609  176127210  25.027294               4                  4   \n",
       "610   38322373  25.010430               4                  4   \n",
       "611  119265345  24.980141               4                  4   \n",
       "612  118003523  24.957502               4                  4   \n",
       "\n",
       "       peaks_importance  cluster  cluster_start  cluster_end  \n",
       "608  Top by both scores       34        8158938      8158957  \n",
       "609  Top by both scores      515      176127201    176127220  \n",
       "610  Top by both scores      104       38322364     38322383  \n",
       "611  Top by both scores      465      119265336    119265355  \n",
       "612  Top by both scores      462      118003514    118003533  "
      ]
     },
     "execution_count": 14,
     "metadata": {},
     "output_type": "execute_result"
    }
   ],
   "source": [
    "# Some CTCF sites might be located too close in the genome and interfere with analysis. \n",
    "# We will collapse the sites falling into the same size genomic bins as the resolution of our micro-C data:\n",
    "sites = bioframe.cluster(sites, min_dist=resolution)\\\n",
    "    .drop_duplicates('cluster')\\\n",
    "    .reset_index(drop=True)\n",
    "sites.tail()"
   ]
  },
  {
   "cell_type": "markdown",
   "metadata": {},
   "source": [
    "## On-diagonal pileup\n",
    "\n",
    "On-diagonal pileup is the simplest, you need the positions of **features** (middlepoints of CTCF motifs) and the size of flanks aroung each motif. cooltools will create a snippet of Hi-C map for each feature. Then you can combine them into a single 2D pileup. "
   ]
  },
  {
   "cell_type": "markdown",
   "metadata": {},
   "source": [
    "### On-diagonal pileup of ICed Hi-C interactions"
   ]
  },
  {
   "cell_type": "code",
   "execution_count": 15,
   "metadata": {},
   "outputs": [],
   "source": [
    "stack = cooltools.pileup(clr, sites, view_df=hg38_arms, flank=300_000)\n",
    "# Mirror reflect snippets when the feature is on the opposite strand\n",
    "mask = np.array(sites.strand == '-', dtype=bool)\n",
    "stack[:, :, mask] = stack[::-1, ::-1, mask]\n",
    "\n",
    "# Aggregate. Note that some pixels might be converted to NaNs after IC, thus we aggregate by nanmean: \n",
    "mtx = np.nanmean(stack, axis=2)"
   ]
  },
  {
   "cell_type": "code",
   "execution_count": 16,
   "metadata": {},
   "outputs": [],
   "source": [
    "# Load colormap with large number of distinguishable intermediary tones,\n",
    "# The \"fall\" colormap in cooltools is exactly for this purpose.\n",
    "# After this step, you can use \"fall\" as cmap parameter in matplotlib:\n",
    "import cooltools.lib.plotting"
   ]
  },
  {
   "cell_type": "code",
   "execution_count": 17,
   "metadata": {},
   "outputs": [
    {
     "name": "stderr",
     "output_type": "stream",
     "text": [
      "/var/folders/4s/d866wm3s4zbc9m41334fxfwr0000gp/T/ipykernel_33615/2426526626.py:2: RuntimeWarning: divide by zero encountered in log10\n",
      "  np.log10(mtx),\n"
     ]
    },
    {
     "data": {
      "image/png": "[encoded data removed]",
      "text/plain": [
       "<Figure size 432x288 with 2 Axes>"
      ]
     },
     "metadata": {
      "needs_background": "light"
     },
     "output_type": "display_data"
    }
   ],
   "source": [
    "plt.imshow(\n",
    "    np.log10(mtx),\n",
    "    vmin = -3,\n",
    "    vmax = -1,\n",
    "    cmap='fall',\n",
    "    interpolation='none')\n",
    "\n",
    "plt.colorbar(label = 'log10 mean ICed Hi-C')\n",
    "ticks_pixels = np.linspace(0, flank*2//resolution,5)\n",
    "ticks_kbp = ((ticks_pixels-ticks_pixels[-1]/2)*resolution//1000).astype(int)\n",
    "plt.xticks(ticks_pixels, ticks_kbp)\n",
    "plt.yticks(ticks_pixels, ticks_kbp)\n",
    "plt.xlabel('relative position, kbp')\n",
    "plt.ylabel('relative position, kbp')\n",
    "\n",
    "plt.show()"
   ]
  },
  {
   "cell_type": "markdown",
   "metadata": {},
   "source": [
    "### On-diagonal pileup of observed over expected interactions\n",
    "\n",
    "Sometimes you don't want to include the **distance decay** P(s) in your pileups. For example, when you make comparison of pileups between experiments and they have different P(s). Even if these differences are slight, they might affect the pileup of raw ICed Hi-C interactions. \n",
    "\n",
    "In this case, the observed over expected pileup is your choice. Prior to running the pileup function, you need to calculate expected interactions for chromosome arms."
   ]
  },
  {
   "cell_type": "code",
   "execution_count": 18,
   "metadata": {},
   "outputs": [],
   "source": [
    "expected = cooltools.expected_cis(clr, view_df=hg38_arms, nproc=2, chunksize=1_000_000)"
   ]
  },
  {
   "cell_type": "code",
   "execution_count": 19,
   "metadata": {},
   "outputs": [
    {
     "data": {
      "text/html": [
       "<div>\n",
       "<style scoped>\n",
       "    .dataframe tbody tr th:only-of-type {\n",
       "        vertical-align: middle;\n",
       "    }\n",
       "\n",
       "    .dataframe tbody tr th {\n",
       "        vertical-align: top;\n",
       "    }\n",
       "\n",
       "    .dataframe thead th {\n",
       "        text-align: right;\n",
       "    }\n",
       "</style>\n",
       "<table border=\"1\" class=\"dataframe\">\n",
       "  <thead>\n",
       "    <tr style=\"text-align: right;\">\n",
       "      <th></th>\n",
       "      <th>region1</th>\n",
       "      <th>region2</th>\n",
       "      <th>dist</th>\n",
       "      <th>n_valid</th>\n",
       "      <th>count.sum</th>\n",
       "      <th>balanced.sum</th>\n",
       "      <th>count.avg</th>\n",
       "      <th>balanced.avg</th>\n",
       "      <th>balanced.avg.smoothed</th>\n",
       "      <th>balanced.avg.smoothed.agg</th>\n",
       "    </tr>\n",
       "  </thead>\n",
       "  <tbody>\n",
       "    <tr>\n",
       "      <th>0</th>\n",
       "      <td>chr2_p</td>\n",
       "      <td>chr2_p</td>\n",
       "      <td>0</td>\n",
       "      <td>8771</td>\n",
       "      <td>NaN</td>\n",
       "      <td>NaN</td>\n",
       "      <td>NaN</td>\n",
       "      <td>NaN</td>\n",
       "      <td>NaN</td>\n",
       "      <td>NaN</td>\n",
       "    </tr>\n",
       "    <tr>\n",
       "      <th>1</th>\n",
       "      <td>chr2_p</td>\n",
       "      <td>chr2_p</td>\n",
       "      <td>1</td>\n",
       "      <td>8753</td>\n",
       "      <td>NaN</td>\n",
       "      <td>NaN</td>\n",
       "      <td>NaN</td>\n",
       "      <td>NaN</td>\n",
       "      <td>0.000495</td>\n",
       "      <td>0.000520</td>\n",
       "    </tr>\n",
       "    <tr>\n",
       "      <th>2</th>\n",
       "      <td>chr2_p</td>\n",
       "      <td>chr2_p</td>\n",
       "      <td>2</td>\n",
       "      <td>8745</td>\n",
       "      <td>2656738.0</td>\n",
       "      <td>406.013088</td>\n",
       "      <td>303.800800</td>\n",
       "      <td>0.046428</td>\n",
       "      <td>0.042469</td>\n",
       "      <td>0.044728</td>\n",
       "    </tr>\n",
       "    <tr>\n",
       "      <th>3</th>\n",
       "      <td>chr2_p</td>\n",
       "      <td>chr2_p</td>\n",
       "      <td>3</td>\n",
       "      <td>8741</td>\n",
       "      <td>1563363.0</td>\n",
       "      <td>237.585271</td>\n",
       "      <td>178.854021</td>\n",
       "      <td>0.027181</td>\n",
       "      <td>0.026796</td>\n",
       "      <td>0.028226</td>\n",
       "    </tr>\n",
       "    <tr>\n",
       "      <th>4</th>\n",
       "      <td>chr2_p</td>\n",
       "      <td>chr2_p</td>\n",
       "      <td>4</td>\n",
       "      <td>8738</td>\n",
       "      <td>1125674.0</td>\n",
       "      <td>169.308714</td>\n",
       "      <td>128.825132</td>\n",
       "      <td>0.019376</td>\n",
       "      <td>0.019097</td>\n",
       "      <td>0.020152</td>\n",
       "    </tr>\n",
       "    <tr>\n",
       "      <th>...</th>\n",
       "      <td>...</td>\n",
       "      <td>...</td>\n",
       "      <td>...</td>\n",
       "      <td>...</td>\n",
       "      <td>...</td>\n",
       "      <td>...</td>\n",
       "      <td>...</td>\n",
       "      <td>...</td>\n",
       "      <td>...</td>\n",
       "      <td>...</td>\n",
       "    </tr>\n",
       "    <tr>\n",
       "      <th>32543</th>\n",
       "      <td>chr17_q</td>\n",
       "      <td>chr17_q</td>\n",
       "      <td>5850</td>\n",
       "      <td>0</td>\n",
       "      <td>0.0</td>\n",
       "      <td>0.000000</td>\n",
       "      <td>NaN</td>\n",
       "      <td>NaN</td>\n",
       "      <td>0.000010</td>\n",
       "      <td>0.000006</td>\n",
       "    </tr>\n",
       "    <tr>\n",
       "      <th>32544</th>\n",
       "      <td>chr17_q</td>\n",
       "      <td>chr17_q</td>\n",
       "      <td>5851</td>\n",
       "      <td>0</td>\n",
       "      <td>0.0</td>\n",
       "      <td>0.000000</td>\n",
       "      <td>NaN</td>\n",
       "      <td>NaN</td>\n",
       "      <td>0.000010</td>\n",
       "      <td>0.000006</td>\n",
       "    </tr>\n",
       "    <tr>\n",
       "      <th>32545</th>\n",
       "      <td>chr17_q</td>\n",
       "      <td>chr17_q</td>\n",
       "      <td>5852</td>\n",
       "      <td>0</td>\n",
       "      <td>0.0</td>\n",
       "      <td>0.000000</td>\n",
       "      <td>NaN</td>\n",
       "      <td>NaN</td>\n",
       "      <td>0.000010</td>\n",
       "      <td>0.000006</td>\n",
       "    </tr>\n",
       "    <tr>\n",
       "      <th>32546</th>\n",
       "      <td>chr17_q</td>\n",
       "      <td>chr17_q</td>\n",
       "      <td>5853</td>\n",
       "      <td>0</td>\n",
       "      <td>0.0</td>\n",
       "      <td>0.000000</td>\n",
       "      <td>NaN</td>\n",
       "      <td>NaN</td>\n",
       "      <td>0.000010</td>\n",
       "      <td>0.000006</td>\n",
       "    </tr>\n",
       "    <tr>\n",
       "      <th>32547</th>\n",
       "      <td>chr17_q</td>\n",
       "      <td>chr17_q</td>\n",
       "      <td>5854</td>\n",
       "      <td>0</td>\n",
       "      <td>0.0</td>\n",
       "      <td>0.000000</td>\n",
       "      <td>NaN</td>\n",
       "      <td>NaN</td>\n",
       "      <td>0.000010</td>\n",
       "      <td>0.000006</td>\n",
       "    </tr>\n",
       "  </tbody>\n",
       "</table>\n",
       "<p>32548 rows × 10 columns</p>\n",
       "</div>"
      ],
      "text/plain": [
       "       region1  region2  dist  n_valid  count.sum  balanced.sum   count.avg  \\\n",
       "0       chr2_p   chr2_p     0     8771        NaN           NaN         NaN   \n",
       "1       chr2_p   chr2_p     1     8753        NaN           NaN         NaN   \n",
       "2       chr2_p   chr2_p     2     8745  2656738.0    406.013088  303.800800   \n",
       "3       chr2_p   chr2_p     3     8741  1563363.0    237.585271  178.854021   \n",
       "4       chr2_p   chr2_p     4     8738  1125674.0    169.308714  128.825132   \n",
       "...        ...      ...   ...      ...        ...           ...         ...   \n",
       "32543  chr17_q  chr17_q  5850        0        0.0      0.000000         NaN   \n",
       "32544  chr17_q  chr17_q  5851        0        0.0      0.000000         NaN   \n",
       "32545  chr17_q  chr17_q  5852        0        0.0      0.000000         NaN   \n",
       "32546  chr17_q  chr17_q  5853        0        0.0      0.000000         NaN   \n",
       "32547  chr17_q  chr17_q  5854        0        0.0      0.000000         NaN   \n",
       "\n",
       "       balanced.avg  balanced.avg.smoothed  balanced.avg.smoothed.agg  \n",
       "0               NaN                    NaN                        NaN  \n",
       "1               NaN               0.000495                   0.000520  \n",
       "2          0.046428               0.042469                   0.044728  \n",
       "3          0.027181               0.026796                   0.028226  \n",
       "4          0.019376               0.019097                   0.020152  \n",
       "...             ...                    ...                        ...  \n",
       "32543           NaN               0.000010                   0.000006  \n",
       "32544           NaN               0.000010                   0.000006  \n",
       "32545           NaN               0.000010                   0.000006  \n",
       "32546           NaN               0.000010                   0.000006  \n",
       "32547           NaN               0.000010                   0.000006  \n",
       "\n",
       "[32548 rows x 10 columns]"
      ]
     },
     "execution_count": 19,
     "metadata": {},
     "output_type": "execute_result"
    }
   ],
   "source": [
    "expected"
   ]
  },
  {
   "cell_type": "code",
   "execution_count": 20,
   "metadata": {},
   "outputs": [],
   "source": [
    "# Create the stack of snips:\n",
    "stack = cooltools.pileup(clr, sites, view_df=hg38_arms, expected_df=expected, flank=300_000) \n",
    "\n",
    "# Mirror reflect snippets when the feature is on the opposite strand\n",
    "mask = np.array(sites.strand == '-', dtype=bool)\n",
    "stack[:, :, mask] = stack[::-1, ::-1, mask]\n",
    "    \n",
    "mtx = np.nanmean(stack, axis=2)"
   ]
  },
  {
   "cell_type": "code",
   "execution_count": 21,
   "metadata": {},
   "outputs": [
    {
     "name": "stderr",
     "output_type": "stream",
     "text": [
      "/var/folders/4s/d866wm3s4zbc9m41334fxfwr0000gp/T/ipykernel_33615/2557000624.py:2: RuntimeWarning: divide by zero encountered in log2\n",
      "  np.log2(mtx),\n"
     ]
    },
    {
     "data": {
      "image/png": "[encoded data removed]",
      "text/plain": [
       "<Figure size 432x288 with 2 Axes>"
      ]
     },
     "metadata": {
      "needs_background": "light"
     },
     "output_type": "display_data"
    }
   ],
   "source": [
    "plt.imshow(\n",
    "    np.log2(mtx),\n",
    "    vmax = 1.0,\n",
    "    vmin = -1.0,\n",
    "    cmap='coolwarm',\n",
    "    interpolation='none')\n",
    "\n",
    "plt.colorbar(label = 'log2 mean obs/exp')\n",
    "ticks_pixels = np.linspace(0, flank*2//resolution,5)\n",
    "ticks_kbp = ((ticks_pixels-ticks_pixels[-1]/2)*resolution//1000).astype(int)\n",
    "plt.xticks(ticks_pixels, ticks_kbp)\n",
    "plt.yticks(ticks_pixels, ticks_kbp)\n",
    "plt.xlabel('relative position, kbp')\n",
    "plt.ylabel('relative position, kbp')\n",
    "\n",
    "plt.show()"
   ]
  },
  {
   "cell_type": "markdown",
   "metadata": {},
   "source": [
    "### Inspect the snips\n",
    "\n",
    "Aggregation is a convenient though dangerous step. It averages your data so that you cannot distinguish whether the signal is indeed average, or there is a single dataset that introduces a bias to your analysis. To make sure there are no outliers, you may want to use inspection of individual snippets.\n",
    "\n",
    "The cell below shows one way to interactively investigate snippets contributing to a pileup. Note that this is not interactive on readthedocs, but can be run if the notebook is obtained from [open2c_examples](https://github.com/open2c/open2c_examples). This widget sorts the dataframe with CTCF motifs by the strength of binding. This allows us to inspect the Micro-C maps at the positions of the strongest and weakest CTCF sites. Run the cell below and try to compare snippets with the lowest score to the snippets with the largest score. "
   ]
  },
  {
   "cell_type": "code",
   "execution_count": 22,
   "metadata": {},
   "outputs": [
    {
     "data": {
      "application/vnd.jupyter.widget-view+json": {
       "model_id": "1cadd6adde5843ac9876bcdc6dda20ff",
       "version_major": 2,
       "version_minor": 0
      },
      "text/plain": [
       "interactive(children=(IntSlider(value=306, description='i', max=612), Output()), _dom_classes=('widget-interac…"
      ]
     },
     "metadata": {},
     "output_type": "display_data"
    }
   ],
   "source": [
    "from ipywidgets import interact\n",
    "from matplotlib.gridspec import GridSpec\n",
    "\n",
    "n_examples = len(sites)\n",
    "\n",
    "@interact(i=(0, n_examples-1))\n",
    "def f(i):\n",
    "    fig, ax = plt.subplots(figsize=[5,5])\n",
    "    img = ax.matshow(\n",
    "        np.log2(stack[:, :, i]),  \n",
    "        vmin=-1,\n",
    "        vmax=1,\n",
    "        extent=[-flank//1000, flank//1000, -flank//1000, flank//1000],\n",
    "        cmap='coolwarm'\n",
    "    )\n",
    "    ax.xaxis.tick_bottom()\n",
    "    if i > 0:\n",
    "        ax.yaxis.set_visible(False)\n",
    "    plt.title(f'{i+1}-th snippet from top \\n FC score: {sites.loc[i, \"FC_score\"]:.2f}\\n and motif score: {sites.loc[i, \"score\"]:.2f}')\n",
    "    plt.axvline(0, c='g', ls=':')\n",
    "    plt.axhline(0, c='g', ls=':')"
   ]
  },
  {
   "cell_type": "markdown",
   "metadata": {},
   "source": [
    "### Compare top strongest peaks with others\n",
    "\n",
    "Compare the top peaks with both motif score and FC score to the rest of the peaks:"
   ]
  },
  {
   "cell_type": "code",
   "execution_count": 23,
   "metadata": {},
   "outputs": [],
   "source": [
    "# Create the stack of snips:\n",
    "stack = cooltools.pileup(clr, ctcf, view_df=hg38_arms, expected_df=expected, flank=300_000\n",
    "            ) \n",
    "\n",
    "# Mirror reflect snippets where the feature is on the opposite strand\n",
    "mask = np.array(ctcf.strand == '-', dtype=bool)\n",
    "stack[:, :, mask] = stack[::-1, ::-1, mask]\n",
    "    \n",
    "mtx = np.nanmean(stack, axis=2)"
   ]
  },
  {
   "cell_type": "code",
   "execution_count": 24,
   "metadata": {},
   "outputs": [
    {
     "name": "stderr",
     "output_type": "stream",
     "text": [
      "/var/folders/4s/d866wm3s4zbc9m41334fxfwr0000gp/T/ipykernel_33615/2210978640.py:14: RuntimeWarning: divide by zero encountered in log2\n",
      "  np.log2(mtx),\n"
     ]
    },
    {
     "data": {
      "image/png": "[encoded data removed]",
      "text/plain": [
       "<Figure size 576x288 with 2 Axes>"
      ]
     },
     "metadata": {
      "needs_background": "light"
     },
     "output_type": "display_data"
    }
   ],
   "source": [
    "# TODO: add some strength of insulation for the pileup? \n",
    "\n",
    "groups = ['Top by both scores', 'Ordinary peaks']\n",
    "n_groups = len(groups)\n",
    "\n",
    "ticks_pixels = np.linspace(0, flank*2//resolution,5)\n",
    "ticks_kbp = ((ticks_pixels-ticks_pixels[-1]/2)*resolution//1000).astype(int)\n",
    "\n",
    "fig, axs = plt.subplots(1, n_groups, sharex=True, sharey=True, figsize=(4*n_groups, 4))\n",
    "for i in range(n_groups):\n",
    "    mtx = np.nanmean( stack[:, :, ctcf['peaks_importance']==groups[i]], axis=2)\n",
    "    ax = axs[i]\n",
    "    ax.imshow(\n",
    "        np.log2(mtx),\n",
    "        vmax = 1.0,\n",
    "        vmin = -1.0,\n",
    "        cmap='coolwarm',\n",
    "        interpolation='none')\n",
    "    \n",
    "    ax.set(title=f'{groups[i]} group', \n",
    "           xticks=ticks_pixels, \n",
    "           xticklabels=ticks_kbp, \n",
    "           xlabel='relative position, kbp')\n",
    "\n",
    "axs[0].set(yticks=ticks_pixels, \n",
    "       yticklabels=ticks_kbp, \n",
    "       ylabel='relative position, kbp')\n",
    "\n",
    "plt.show()"
   ]
  },
  {
   "cell_type": "markdown",
   "metadata": {},
   "source": [
    "## Off-diagonal pileup\n",
    "\n",
    "**Off-diagonal pileups** are the averaged Hi-C maps around double anchors. In this case, the anchors are CTCF sites in the genome. \n"
   ]
  },
  {
   "cell_type": "code",
   "execution_count": 25,
   "metadata": {},
   "outputs": [],
   "source": [
    "paired_sites = bioframe.pair_by_distance(sites, min_sep=200000, max_sep=1000000, suffixes=('1', '2'))\n",
    "paired_sites.loc[:, 'mid1'] = (paired_sites['start1'] + paired_sites['end1'])//2\n",
    "paired_sites.loc[:, 'mid2'] = (paired_sites['start2'] + paired_sites['end2'])//2"
   ]
  },
  {
   "cell_type": "code",
   "execution_count": 26,
   "metadata": {},
   "outputs": [
    {
     "name": "stdout",
     "output_type": "stream",
     "text": [
      "1634\n"
     ]
    },
    {
     "data": {
      "text/html": [
       "<div>\n",
       "<style scoped>\n",
       "    .dataframe tbody tr th:only-of-type {\n",
       "        vertical-align: middle;\n",
       "    }\n",
       "\n",
       "    .dataframe tbody tr th {\n",
       "        vertical-align: top;\n",
       "    }\n",
       "\n",
       "    .dataframe thead th {\n",
       "        text-align: right;\n",
       "    }\n",
       "</style>\n",
       "<table border=\"1\" class=\"dataframe\">\n",
       "  <thead>\n",
       "    <tr style=\"text-align: right;\">\n",
       "      <th></th>\n",
       "      <th>chrom1</th>\n",
       "      <th>start1</th>\n",
       "      <th>end1</th>\n",
       "      <th>name1</th>\n",
       "      <th>score1</th>\n",
       "      <th>strand1</th>\n",
       "      <th>mid1</th>\n",
       "      <th>FC_score1</th>\n",
       "      <th>quartile_score1</th>\n",
       "      <th>quartile_FC_score1</th>\n",
       "      <th>...</th>\n",
       "      <th>score2</th>\n",
       "      <th>strand2</th>\n",
       "      <th>mid2</th>\n",
       "      <th>FC_score2</th>\n",
       "      <th>quartile_score2</th>\n",
       "      <th>quartile_FC_score2</th>\n",
       "      <th>peaks_importance2</th>\n",
       "      <th>cluster2</th>\n",
       "      <th>cluster_start2</th>\n",
       "      <th>cluster_end2</th>\n",
       "    </tr>\n",
       "  </thead>\n",
       "  <tbody>\n",
       "    <tr>\n",
       "      <th>0</th>\n",
       "      <td>chr17</td>\n",
       "      <td>412407</td>\n",
       "      <td>412426</td>\n",
       "      <td>MA0139.1_CTCF_human</td>\n",
       "      <td>12.212548</td>\n",
       "      <td>+</td>\n",
       "      <td>412416</td>\n",
       "      <td>41.645123</td>\n",
       "      <td>4</td>\n",
       "      <td>4</td>\n",
       "      <td>...</td>\n",
       "      <td>13.272118</td>\n",
       "      <td>-</td>\n",
       "      <td>1056231</td>\n",
       "      <td>35.072572</td>\n",
       "      <td>4</td>\n",
       "      <td>4</td>\n",
       "      <td>Top by both scores</td>\n",
       "      <td>1</td>\n",
       "      <td>1056222</td>\n",
       "      <td>1056241</td>\n",
       "    </tr>\n",
       "    <tr>\n",
       "      <th>1</th>\n",
       "      <td>chr17</td>\n",
       "      <td>412407</td>\n",
       "      <td>412426</td>\n",
       "      <td>MA0139.1_CTCF_human</td>\n",
       "      <td>12.212548</td>\n",
       "      <td>+</td>\n",
       "      <td>412416</td>\n",
       "      <td>41.645123</td>\n",
       "      <td>4</td>\n",
       "      <td>4</td>\n",
       "      <td>...</td>\n",
       "      <td>13.996208</td>\n",
       "      <td>-</td>\n",
       "      <td>1187374</td>\n",
       "      <td>69.994562</td>\n",
       "      <td>4</td>\n",
       "      <td>4</td>\n",
       "      <td>Top by both scores</td>\n",
       "      <td>2</td>\n",
       "      <td>1187365</td>\n",
       "      <td>1187384</td>\n",
       "    </tr>\n",
       "    <tr>\n",
       "      <th>2</th>\n",
       "      <td>chr17</td>\n",
       "      <td>412407</td>\n",
       "      <td>412426</td>\n",
       "      <td>MA0139.1_CTCF_human</td>\n",
       "      <td>12.212548</td>\n",
       "      <td>+</td>\n",
       "      <td>412416</td>\n",
       "      <td>41.645123</td>\n",
       "      <td>4</td>\n",
       "      <td>4</td>\n",
       "      <td>...</td>\n",
       "      <td>14.735101</td>\n",
       "      <td>+</td>\n",
       "      <td>1259280</td>\n",
       "      <td>31.643758</td>\n",
       "      <td>4</td>\n",
       "      <td>4</td>\n",
       "      <td>Top by both scores</td>\n",
       "      <td>3</td>\n",
       "      <td>1259271</td>\n",
       "      <td>1259290</td>\n",
       "    </tr>\n",
       "    <tr>\n",
       "      <th>3</th>\n",
       "      <td>chr17</td>\n",
       "      <td>412407</td>\n",
       "      <td>412426</td>\n",
       "      <td>MA0139.1_CTCF_human</td>\n",
       "      <td>12.212548</td>\n",
       "      <td>+</td>\n",
       "      <td>412416</td>\n",
       "      <td>41.645123</td>\n",
       "      <td>4</td>\n",
       "      <td>4</td>\n",
       "      <td>...</td>\n",
       "      <td>13.983562</td>\n",
       "      <td>+</td>\n",
       "      <td>1276338</td>\n",
       "      <td>35.440247</td>\n",
       "      <td>4</td>\n",
       "      <td>4</td>\n",
       "      <td>Top by both scores</td>\n",
       "      <td>4</td>\n",
       "      <td>1276329</td>\n",
       "      <td>1276348</td>\n",
       "    </tr>\n",
       "    <tr>\n",
       "      <th>4</th>\n",
       "      <td>chr17</td>\n",
       "      <td>412407</td>\n",
       "      <td>412426</td>\n",
       "      <td>MA0139.1_CTCF_human</td>\n",
       "      <td>12.212548</td>\n",
       "      <td>+</td>\n",
       "      <td>412416</td>\n",
       "      <td>41.645123</td>\n",
       "      <td>4</td>\n",
       "      <td>4</td>\n",
       "      <td>...</td>\n",
       "      <td>12.045221</td>\n",
       "      <td>+</td>\n",
       "      <td>1365609</td>\n",
       "      <td>36.746886</td>\n",
       "      <td>4</td>\n",
       "      <td>4</td>\n",
       "      <td>Top by both scores</td>\n",
       "      <td>5</td>\n",
       "      <td>1365600</td>\n",
       "      <td>1365619</td>\n",
       "    </tr>\n",
       "  </tbody>\n",
       "</table>\n",
       "<p>5 rows × 28 columns</p>\n",
       "</div>"
      ],
      "text/plain": [
       "  chrom1  start1    end1                name1     score1 strand1    mid1  \\\n",
       "0  chr17  412407  412426  MA0139.1_CTCF_human  12.212548       +  412416   \n",
       "1  chr17  412407  412426  MA0139.1_CTCF_human  12.212548       +  412416   \n",
       "2  chr17  412407  412426  MA0139.1_CTCF_human  12.212548       +  412416   \n",
       "3  chr17  412407  412426  MA0139.1_CTCF_human  12.212548       +  412416   \n",
       "4  chr17  412407  412426  MA0139.1_CTCF_human  12.212548       +  412416   \n",
       "\n",
       "   FC_score1  quartile_score1  quartile_FC_score1  ...     score2  strand2  \\\n",
       "0  41.645123                4                   4  ...  13.272118        -   \n",
       "1  41.645123                4                   4  ...  13.996208        -   \n",
       "2  41.645123                4                   4  ...  14.735101        +   \n",
       "3  41.645123                4                   4  ...  13.983562        +   \n",
       "4  41.645123                4                   4  ...  12.045221        +   \n",
       "\n",
       "      mid2  FC_score2 quartile_score2  quartile_FC_score2   peaks_importance2  \\\n",
       "0  1056231  35.072572               4                   4  Top by both scores   \n",
       "1  1187374  69.994562               4                   4  Top by both scores   \n",
       "2  1259280  31.643758               4                   4  Top by both scores   \n",
       "3  1276338  35.440247               4                   4  Top by both scores   \n",
       "4  1365609  36.746886               4                   4  Top by both scores   \n",
       "\n",
       "  cluster2  cluster_start2 cluster_end2  \n",
       "0        1         1056222      1056241  \n",
       "1        2         1187365      1187384  \n",
       "2        3         1259271      1259290  \n",
       "3        4         1276329      1276348  \n",
       "4        5         1365600      1365619  \n",
       "\n",
       "[5 rows x 28 columns]"
      ]
     },
     "execution_count": 26,
     "metadata": {},
     "output_type": "execute_result"
    }
   ],
   "source": [
    "print(len(paired_sites))\n",
    "paired_sites.head()"
   ]
  },
  {
   "cell_type": "markdown",
   "metadata": {},
   "source": [
    "For pileup, we will use the expected calculated above:"
   ]
  },
  {
   "cell_type": "code",
   "execution_count": 27,
   "metadata": {},
   "outputs": [],
   "source": [
    "# create the stack of snips:\n",
    "stack = cooltools.pileup(clr, paired_sites, view_df=hg38_arms, expected_df=expected, flank=100_000)\n",
    "    \n",
    "mtx = np.nanmean(stack, axis=2)"
   ]
  },
  {
   "cell_type": "code",
   "execution_count": 28,
   "metadata": {},
   "outputs": [
    {
     "data": {
      "image/png": "[encoded data removed]",
      "text/plain": [
       "<Figure size 432x288 with 2 Axes>"
      ]
     },
     "metadata": {
      "needs_background": "light"
     },
     "output_type": "display_data"
    }
   ],
   "source": [
    "plt.imshow(\n",
    "    np.log2(mtx),\n",
    "    vmax = 1,\n",
    "    vmin = -1,\n",
    "    cmap='coolwarm')\n",
    "\n",
    "plt.colorbar(label = 'log2 mean obs/exp')\n",
    "ticks_pixels = np.linspace(0, flank*2//resolution,5)\n",
    "ticks_kbp = ((ticks_pixels-ticks_pixels[-1]/2)*resolution//1000).astype(int)\n",
    "plt.xticks(ticks_pixels, ticks_kbp)\n",
    "plt.yticks(ticks_pixels, ticks_kbp)\n",
    "plt.xlabel('relative position, kbp')\n",
    "plt.ylabel('relative position, kbp')\n",
    "\n",
    "plt.show()"
   ]
  }
 ],
 "metadata": {
  "kernelspec": {
   "display_name": "Python 3 (ipykernel)",
   "language": "python",
   "name": "python3"
  },
  "language_info": {
   "codemirror_mode": {
    "name": "ipython",
    "version": 3
   },
   "file_extension": ".py",
   "mimetype": "text/x-python",
   "name": "python",
   "nbconvert_exporter": "python",
   "pygments_lexer": "ipython3",
   "version": "3.9.13"
  },
  "widgets": {
   "application/vnd.jupyter.widget-state+json": {
    "state": {
     "2e316a71e99b44ae928ad85c2895594f": {
      "model_module": "@jupyter-widgets/controls",
      "model_module_version": "1.5.0",
      "model_name": "VBoxModel",
      "state": {
       "_dom_classes": [
        "widget-interact"
       ],
       "children": [
        "IPY_MODEL_717d842dd95742b4bebbdbb16b9f20b7",
        "IPY_MODEL_a2a3b893a4ee4af29d080f6018601618"
       ],
       "layout": "IPY_MODEL_3ae93699e2d0458c946f4f8839aafaea"
      }
     },
     "2f5f06f8e5d242338daf3b033f34cd30": {
      "model_module": "@jupyter-widgets/base",
      "model_module_version": "1.2.0",
      "model_name": "LayoutModel",
      "state": {}
     },
     "3ae93699e2d0458c946f4f8839aafaea": {
      "model_module": "@jupyter-widgets/base",
      "model_module_version": "1.2.0",
      "model_name": "LayoutModel",
      "state": {}
     },
     "5369386b2fd94cc29204c705b9738675": {
      "model_module": "@jupyter-widgets/base",
      "model_module_version": "1.2.0",
      "model_name": "LayoutModel",
      "state": {}
     },
     "717d842dd95742b4bebbdbb16b9f20b7": {
      "model_module": "@jupyter-widgets/controls",
      "model_module_version": "1.5.0",
      "model_name": "IntSliderModel",
      "state": {
       "description": "i",
       "layout": "IPY_MODEL_2f5f06f8e5d242338daf3b033f34cd30",
       "max": 612,
       "style": "IPY_MODEL_b52bc16c6963418694c2121f75b66024",
       "value": 61
      }
     },
     "a2a3b893a4ee4af29d080f6018601618": {
      "model_module": "@jupyter-widgets/output",
      "model_module_version": "1.0.0",
      "model_name": "OutputModel",
      "state": {
       "layout": "IPY_MODEL_5369386b2fd94cc29204c705b9738675",
       "outputs": [
        {
         "name": "stderr",
         "output_type": "stream",
         "text": "/var/folders/4s/d866wm3s4zbc9m41334fxfwr0000gp/T/ipykernel_47165/1864502587.py:10: RuntimeWarning: divide by zero encountered in log2\n  np.log2(stack[:, :, i]),\n"
        },
        {
         "data": {
          "image/png": "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\n",
          "text/plain": "<Figure size 360x360 with 1 Axes>"
         },
         "metadata": {
          "needs_background": "light"
         },
         "output_type": "display_data"
        }
       ]
      }
     },
     "b52bc16c6963418694c2121f75b66024": {
      "model_module": "@jupyter-widgets/controls",
      "model_module_version": "1.5.0",
      "model_name": "SliderStyleModel",
      "state": {
       "description_width": ""
      }
     }
    },
    "version_major": 2,
    "version_minor": 0
   }
  }
 },
 "nbformat": 4,
 "nbformat_minor": 4
}
