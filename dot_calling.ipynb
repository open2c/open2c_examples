{
 "cells": [
  {
   "cell_type": "markdown",
   "metadata": {},
   "source": [
    "# Dot calling\n",
    "\n",
    "Welcome to the dot calling notebook!\n",
    "\n",
    "Dot calling finds significantly enriched interactions in the Hi-C map. \n",
    "The traditional algorithm for that is HICCUPS (proposed in [Rao et al. 2014](https://doi.org/10.1016/j.cell.2014.11.021). However, the original HICCUPS is written in Java, making it hard to modify the parameters and specific steps.\n",
    "\n",
    "We implement dot caller in Python and make it easy to control the parameter and processing steps for flexible search of optimal parameters for new Hi-C or Micro-C datasets."
   ]
  },
  {
   "cell_type": "code",
   "execution_count": 1,
   "metadata": {},
   "outputs": [
    {
     "data": {
      "text/plain": [
       "[{'filepath': '/home/agalicina/anaconda3/envs/python37/lib/libmkl_rt.so',\n",
       "  'prefix': 'libmkl_rt',\n",
       "  'user_api': 'blas',\n",
       "  'internal_api': 'mkl',\n",
       "  'version': '2020.0.2',\n",
       "  'num_threads': 1,\n",
       "  'threading_layer': 'intel'},\n",
       " {'filepath': '/home/agalicina/anaconda3/envs/python37/lib/libiomp5.so',\n",
       "  'prefix': 'libiomp',\n",
       "  'user_api': 'openmp',\n",
       "  'internal_api': 'openmp',\n",
       "  'version': None,\n",
       "  'num_threads': 1}]"
      ]
     },
     "execution_count": 1,
     "metadata": {},
     "output_type": "execute_result"
    }
   ],
   "source": [
    "# Setup the environment first: TODO: do we need it with the api update? \n",
    "\n",
    "# read: https://github.com/mirnylab/cooler/issues/138 for more details:\n",
    "\n",
    "# !export MKL_NUM_THREADS=1 - # not working in a notebook ((\n",
    "# instead do this, after making sure mkl is installed\n",
    "import mkl\n",
    "mkl.set_num_threads(1)\n",
    "\n",
    "from threadpoolctl import threadpool_info\n",
    "threadpool_info()"
   ]
  },
  {
   "cell_type": "code",
   "execution_count": 2,
   "metadata": {},
   "outputs": [],
   "source": [
    "# If you are a developer, you may want to reload the packages on a fly. \n",
    "# Jupyter has a magic for this particular purpose:\n",
    "\n",
    "%load_ext autoreload\n",
    "%autoreload 2"
   ]
  },
  {
   "cell_type": "code",
   "execution_count": null,
   "metadata": {},
   "outputs": [
    {
     "name": "stderr",
     "output_type": "stream",
     "text": [
      "/home/agalicina/anaconda3/envs/python37/lib/python3.7/site-packages/dask/dataframe/utils.py:15: FutureWarning: pandas.util.testing is deprecated. Use the functions in the public API at pandas.testing instead.\n",
      "  import pandas.util.testing as tm\n"
     ]
    }
   ],
   "source": [
    "# Visualization imports: \n",
    "import matplotlib.pyplot as plt\n",
    "# TODO: do we need the datashader for basic demonstration? \n",
    "import datashader as ds\n",
    "from datashader.mpl_ext import dsshow, alpha_colormap\n",
    "\n",
    "import matplotlib.cm as cm\n",
    "import matplotlib.colors as colors\n",
    "import matplotlib.ticker as ticker\n",
    "from matplotlib.colors import LogNorm\n",
    "\n",
    "# TODO: remove below altogether?\n",
    "# %matplotlib inline\n",
    "# %config InlineBackend.print_figure_kwargs={'facecolor' : \"w\"}\n",
    "\n",
    "# Data processing/manupulation imports: \n",
    "import os.path as op\n",
    "from scipy.stats import poisson\n",
    "import pandas as pd\n",
    "import numpy as np\n",
    "\n",
    "# Hi-C utilities imports: \n",
    "import cooler\n",
    "import bioframe\n",
    "import cooltools\n",
    "from cooltools.api import dots"
   ]
  },
  {
   "cell_type": "markdown",
   "metadata": {},
   "source": [
    "## Download data"
   ]
  },
  {
   "cell_type": "code",
   "execution_count": null,
   "metadata": {},
   "outputs": [],
   "source": [
    "# Download the test data from osf:\n",
    "\n",
    "cool_file = cooltools.download_data(\"HFF_MicroC\", cache=True, data_dir='./')\n",
    "print(cool_file)"
   ]
  },
  {
   "cell_type": "markdown",
   "metadata": {},
   "source": [
    "## CLI for dot calling"
   ]
  },
  {
   "cell_type": "code",
   "execution_count": null,
   "metadata": {},
   "outputs": [],
   "source": [
    "# calculate expected for the regions of interest:\n",
    "# this is a 10kb cooler file\n",
    "# and we should also have expected calculated for 10kb:\n",
    "!cooltools compute-expected \\\n",
    "    --nproc 2 \\\n",
    "    --output test.10kb.cis.exp.tsv \\\n",
    "    --regions hg38_arms.bed \\\n",
    "    --contact-type cis \\\n",
    "    --balance \\\n",
    "    --weight-name weight \\\n",
    "    --ignore-diags 2 \\\n",
    "    ./test.mcool::/resolutions/10000"
   ]
  },
  {
   "cell_type": "code",
   "execution_count": 17,
   "metadata": {},
   "outputs": [],
   "source": [
    "!cooltools call-dots \\\n",
    "    -p 4 \\\n",
    "    --max-loci-separation 1000000 \\\n",
    "    --tile-size 1000000 \\\n",
    "    --dots-clustering-radius 21000 \\\n",
    "    --fdr 0.1 \\\n",
    "    --verbose \\\n",
    "    -o xxx.bedpe \\\n",
    "    --regions hg38_arms.bed \\\n",
    "    ./test.mcool::/resolutions/10000 \\\n",
    "    test.10kb.cis.exp.tsv"
   ]
  },
  {
   "cell_type": "markdown",
   "metadata": {},
   "source": [
    "## Load data\n",
    "\n",
    "For dot calling, we need input cool file with Hi-C data, regions for calculation of expected (chromosomes or chromosome arms)."
   ]
  },
  {
   "cell_type": "code",
   "execution_count": 7,
   "metadata": {},
   "outputs": [],
   "source": [
    "# Open cool file with Micro-C data:\n",
    "clr = cooler.Cooler('./test.mcool::/resolutions/10000')\n",
    "# Set up selected data resolution:\n",
    "resolution = clr.binsize"
   ]
  },
  {
   "cell_type": "code",
   "execution_count": 8,
   "metadata": {},
   "outputs": [],
   "source": [
    "# Use bioframe to fetch the genomic features from the UCSC.\n",
    "hg38_chromsizes = bioframe.fetch_chromsizes('hg38')\n",
    "hg38_cens = bioframe.fetch_centromeres('hg38')\n",
    "hg38_arms = bioframe.make_chromarms(hg38_chromsizes, hg38_cens)\n",
    "\n",
    "# Select only chromosomes that are present in the cooler. \n",
    "# This step is typically not required! we call it only because the test data are reduced. \n",
    "hg38_arms = hg38_arms.set_index(\"chrom\").loc[clr.chromnames].reset_index()"
   ]
  },
  {
   "cell_type": "markdown",
   "metadata": {},
   "source": [
    "## Pre-compute expected"
   ]
  },
  {
   "cell_type": "code",
   "execution_count": 12,
   "metadata": {},
   "outputs": [],
   "source": [
    "expected = cooltools.expected_cis(clr, view_df=hg38_arms, nproc=2, chunksize=1_000_000)"
   ]
  },
  {
   "cell_type": "code",
   "execution_count": null,
   "metadata": {},
   "outputs": [],
   "source": [
    "expected"
   ]
  },
  {
   "cell_type": "markdown",
   "metadata": {},
   "source": [
    "## Pameters for dot calling\n",
    "\n",
    "In the original HICCUP algorithm, there is a number of parameters that can be varied for the better fit to your data.\n",
    "Here, we describe these parameters and describe how to modify them with cooltools:"
   ]
  },
  {
   "cell_type": "code",
   "execution_count": 11,
   "metadata": {},
   "outputs": [
    {
     "name": "stdout",
     "output_type": "stream",
     "text": [
      "we are dealing with the data binned at 10000\n"
     ]
    }
   ],
   "source": [
    "# specify parameters for call-dots\n",
    "expected_name = 'balanced.avg'\n",
    "nproc = 4\n",
    "max_loci_separation = 1_000_000\n",
    "max_nans_tolerated = 4\n",
    "tile_size = 1_000_000\n",
    "fdr = 0.1\n",
    "dots_clustering_radius = 21_000\n",
    "verbose = True\n",
    "balancing_weight_name = \"weight\"\n",
    "temp_dir = './'\n",
    "no_delete_temp = True\n",
    "\n",
    "# Prepare some parameters.\n",
    "binsize = clr.binsize\n",
    "loci_separation_bins = int(max_loci_separation / binsize) # how many diagonals to be considered\n",
    "tile_size_bins = int(tile_size / binsize)\n",
    "\n",
    "print(\"we are dealing with the data binned at {}\".format(binsize))\n",
    "\n",
    "# clustering would deal with bases-units for now, so supress this for now\n",
    "# clustering_radius_bins = int(dots_clustering_radius/binsize)\n",
    "\n",
    "# pre-defined kernel types that are going to be used in the analysis\n",
    "ktypes = ['donut', 'vertical', 'horizontal', 'lowleft']"
   ]
  },
  {
   "cell_type": "markdown",
   "metadata": {},
   "source": [
    "### Kernels used to define local enrichment of a pixel\n",
    "\n",
    " - Dots observed on Hi-C heatmaps as *small* and concentrated clusters of locally enriched pixels.\n",
    " - Biologically relevant sizes of such clusters and their surroundings are empirically defined at `~50kb` for the diameter of clusters, and `~100kb` for the diameter of the local surrounding\n",
    " - Several types of kernels (i.e. local environments) could be used to rule out unwanted enrichment types, e.g. elongated clusters, large corners, etc.\n",
    " - One can choose from pre-defined set of kernels from *Rao et al 2014*, or provide custome ones\n",
    " - Even for the predefined set of kernels one can control their parameters `w` and `p`, where `2w+1` is the outter dimensions of kernel's footprint and `2p+1` is the inner one, the approximate size of an enriched cluster of pixels\n",
    " - function `recommend_kernel_params` would yield recommended `w` and `p` for a given bin size, as in *Rao et al 2014*, otherwise feel free to experiment with those"
   ]
  },
  {
   "cell_type": "code",
   "execution_count": 13,
   "metadata": {},
   "outputs": [
    {
     "name": "stdout",
     "output_type": "stream",
     "text": [
      "Kernel parameters w=5 p=2\n"
     ]
    }
   ],
   "source": [
    "w,p = dotfinder.recommend_kernel_params(binsize)\n",
    "print(\"Kernel parameters w={} p={}\".format(w,p))\n",
    "\n",
    "kernels = {k: dotfinder.get_kernel(w, p, k) for k in ktypes}\n",
    "# list of tile coordinate ranges\n",
    "tiles = list(\n",
    "    dotfinder.heatmap_tiles_generator_diag(\n",
    "        clr,\n",
    "        hg38_arms,\n",
    "        w,\n",
    "        tile_size_bins,\n",
    "        loci_separation_bins\n",
    "    )\n",
    ")   "
   ]
  },
  {
   "cell_type": "code",
   "execution_count": 5,
   "metadata": {},
   "outputs": [],
   "source": [
    "def draw_kernel(kernel,\n",
    "                axis,\n",
    "                cmap='viridis'):\n",
    "    # kernel:\n",
    "    imk = axis.imshow(\n",
    "                    kernel[::-1,::-1],\n",
    "                    alpha=0.7,\n",
    "                    cmap=cmap,\n",
    "                    interpolation='nearest')\n",
    "    # clean axis:\n",
    "    axis.set_xticks([])\n",
    "    axis.set_yticks([])\n",
    "    axis.set_xticklabels('',visible=False)\n",
    "    axis.set_yticklabels('',visible=False)\n",
    "    axis.set_title(\"{} kernel\".format(ktype),fontsize=16)\n",
    "    # add a checkerboard to highlight pixels:\n",
    "    checkerboard = np.add.outer(range(kernel.shape[0]),\n",
    "                                range(kernel.shape[1])) % 2\n",
    "    # show it:\n",
    "    axis.imshow(checkerboard,\n",
    "            cmap='gray',\n",
    "            interpolation='nearest',\n",
    "            alpha=0.3)\n",
    "    #\n",
    "    return imk"
   ]
  },
  {
   "cell_type": "code",
   "execution_count": 14,
   "metadata": {},
   "outputs": [
    {
     "data": {
      "text/plain": [
       "[Text(1, 0, 'Excluded from calculation'),\n",
       " Text(1, 0, 'Included in calculations')]"
      ]
     },
     "execution_count": 14,
     "metadata": {},
     "output_type": "execute_result"
    },
    {
     "data": {
      "image/png": "[encoded data removed]",
      "text/plain": [
       "<Figure size 864x180 with 5 Axes>"
      ]
     },
     "metadata": {
      "needs_background": "light"
     },
     "output_type": "display_data"
    }
   ],
   "source": [
    "# it is important to demonstrate filters here \n",
    "# consider moving plotting code elsewhere or simplify it significantly ...\n",
    "# split cell above and demonstrate kernels - it's nice:\n",
    "fig = plt.figure(figsize=(12,2.5))\n",
    "gs = plt.GridSpec(nrows=1,\n",
    "            ncols=5,\n",
    "            figure=fig,\n",
    "            width_ratios=[1,1,1,1,0.1])\n",
    "\n",
    "for i,ktype in enumerate(ktypes):\n",
    "    kernel= kernels[ktype]\n",
    "    ax = plt.subplot(gs[i])\n",
    "    imk = draw_kernel(kernel,ax)\n",
    "    \n",
    "# colorbar and that's it:\n",
    "ax = plt.subplot(gs[i+1])\n",
    "cb = fig.colorbar(imk, cax=ax)\n",
    "cb.ax.get_yaxis().set_major_locator(ticker.MaxNLocator(1))\n",
    "cb.ax.set_yticklabels(['Excluded from calculation','Included in calculations'])"
   ]
  },
  {
   "cell_type": "markdown",
   "metadata": {},
   "source": [
    "## Dot calling"
   ]
  },
  {
   "cell_type": "code",
   "execution_count": null,
   "metadata": {},
   "outputs": [],
   "source": [
    "dots = dots(\n",
    "    clr,\n",
    "    expected,\n",
    "    expected_value_col=\"balanced.avg\",\n",
    "    view_df=hg38_arms,\n",
    "    kernels = {}, # mask, kernel, filter ...\n",
    "    clustering_radius=20_000,  # None or False would switch clustering off\n",
    "    clr_weight_name=\"weight\",\n",
    "    fdr=.1,\n",
    "    max_loci_separation=10_000_000,\n",
    "    max_nans_tolerated=1,\n",
    "    num_lambda_chunks=40,  # should get rid of this param eventually\n",
    "    tile_size=5_000_000, # execution detail - does not affect the result\n",
    "    nproc=1,\n",
    ")"
   ]
  },
  {
   "cell_type": "code",
   "execution_count": null,
   "metadata": {},
   "outputs": [],
   "source": [
    "dots"
   ]
  },
  {
   "cell_type": "code",
   "execution_count": null,
   "metadata": {},
   "outputs": [],
   "source": [
    "### Visualization of dots against the Hi-C map"
   ]
  },
  {
   "cell_type": "code",
   "execution_count": null,
   "metadata": {},
   "outputs": [],
   "source": []
  },
  {
   "cell_type": "markdown",
   "metadata": {},
   "source": [
    "# Technical notes\n",
    "\n",
    "The code below should be probably removed or substantially modified for the pro-users."
   ]
  },
  {
   "cell_type": "code",
   "execution_count": null,
   "metadata": {},
   "outputs": [],
   "source": []
  },
  {
   "cell_type": "markdown",
   "metadata": {},
   "source": [
    "a little remark on the `lowleft` kernel:\n",
    " - by the definition of convolution, it implies integrating f(x)*g(-x) ...\n",
    " - in other words the kernel is being \"flipped\" when it is applied to a matrix\n",
    " - we should try to make it explicit or hide it away on a better way"
   ]
  },
  {
   "cell_type": "markdown",
   "metadata": {},
   "source": [
    "### Getting to the calculations of locally-adjusted expected\n",
    "\n",
    " - for demonstration and debugging purposes we are going to dump the dataframe with locally adjusted expected right in place (i.e. in memory).\n",
    " - This might be also ok for smaller genomes and potentially for small subsets of large genomes.\n",
    " - This is not recommended whatsoever for genome-wide dot-calling.\n",
    "\n",
    "A side note, we've tried to store all of the values in a separate file,\n",
    "but practice shows that for large genomes even parquet/hdf5 are not fast enough.\n",
    "Thus using a **2-pass** strategy seems to be the best option indeed.\n",
    "\n",
    "**2-pass**: calculate locally-adjusted expected for each pixel and use this value *immediately* to build a histogram with predefined bins, then recalculate locally-adjusted expected values and again use them *in place* to select significantly enriched pixels.\n",
    "\n",
    "\n",
    " - an example on how to store locally adjusted expected in a temporary file:\n",
    "```python\n",
    "import tempfile\n",
    "tmp_scores = tempfile.NamedTemporaryFile(\n",
    "    suffix='.parquet',\n",
    "    delete= False,\n",
    "    dir='.')\n",
    "```\n",
    " - now calculate locally adjusted expected (not performed in the call-dots command line implementation):\n",
    "```python\n",
    "loc_adj_exp = dotfinder.scoring_step(clr,\n",
    "                    expected,\n",
    "                    expected_name,\n",
    "                    \"weight\",\n",
    "                    tiles,\n",
    "                    kernels,\n",
    "                    max_nans_tolerated,\n",
    "                    loci_separation_bins,\n",
    "                    tmp_scores,\n",
    "                    nproc,\n",
    "                    score_dump_mode,\n",
    "                    verbose)\n",
    "```\n",
    " - histogramming using temporary input (this steps is performed in actual call-dots implementation and it involves de novo calculation of locally adjusted expected for each surveyed pixel):\n",
    "```python\n",
    "gw_hist = dotfinder.histogramming_step(tmp_scores,\n",
    "                                    score_dump_mode,\n",
    "                                    kernels,\n",
    "                                    ledges,\n",
    "                                    output_path=None,\n",
    "                                    nproc=1,\n",
    "                                    verbose=False)\n",
    "```"
   ]
  },
  {
   "cell_type": "code",
   "execution_count": 15,
   "metadata": {},
   "outputs": [
    {
     "name": "stdout",
     "output_type": "stream",
     "text": [
      "Preparing to convolve 652 tiles:\n",
      "creating a Pool of 4 workers to tackle 652 tiles\n",
      "returning local copy of the dataframe ...\n"
     ]
    }
   ],
   "source": [
    "# locally adjusted returned in place (works for small samples only):\n",
    "# beware: this step is not performed in the actual call-dots CLI implementation\n",
    "la_exp = dotfinder.scoring_step(clr,\n",
    "                    expected,\n",
    "                    expected_name,\n",
    "                    balancing_weight_name,\n",
    "                    tiles,\n",
    "                    kernels,\n",
    "                    1,\n",
    "                    loci_separation_bins,\n",
    "                    None,\n",
    "                    nproc,\n",
    "                    \"local\",\n",
    "                    verbose)"
   ]
  },
  {
   "cell_type": "markdown",
   "metadata": {},
   "source": [
    "### that is how locally adjusted expected dataframe looks like:\n",
    "\n",
    "bin1_id|bin2_id|count|la_exp.donut.value|la_exp.vertical.value|la_exp.horizontal.value|la_exp.lowleft.value\n",
    "---|---|---|---|---|---|---\n",
    "76|87|20|16.343724585366036|19.112339277607475|14.789222300465001|17.55971648783403\n",
    "76|88|29|21.109446293886823|23.76004284738352|19.119195822013385|23.30209962326733\n",
    "76|89|15|17.254427190306977|18.545853810657224|14.695003640984938|19.784933947834944\n",
    "76|90|21|14.277047600786759|14.642767228999286|12.928217571836717|17.27371365389384\n",
    "76|91|13|11.22588212884422|11.279966641429564|10.064704945467405|14.514049136987758\n",
    "\n",
    " - here we use `cooler`-based `bin1/2_id` instead of actual genomic coordinates for compactness and performance reasons.\n",
    " - Observed is recorded in the `count` columns, again as in the parent `cooler`-file.\n",
    " - observer and all types of expected are expressed in the raw units in order to apply Poisson statistics to the data"
   ]
  },
  {
   "cell_type": "markdown",
   "metadata": {},
   "source": [
    "### Scatter plot of observed vs expected\n",
    "\n",
    "A scatter plot with observed vs expected should be a good \"platform\" for understanding what a dot-calling is:"
   ]
  },
  {
   "cell_type": "code",
   "execution_count": 14,
   "metadata": {},
   "outputs": [
    {
     "data": {
      "text/plain": [
       "<matplotlib.colorbar.Colorbar at 0x7f949011a908>"
      ]
     },
     "execution_count": 14,
     "metadata": {},
     "output_type": "execute_result"
    },
    {
     "data": {
      "image/png": "[encoded data removed]",
      "text/plain": [
       "<Figure size 1008x576 with 4 Axes>"
      ]
     },
     "metadata": {
      "needs_background": "light"
     },
     "output_type": "display_data"
    }
   ],
   "source": [
    "# def quick_obs_exp_scatter(data,\n",
    "#                           axis,\n",
    "#                           xlabel='la_exp.donut.value',\n",
    "#                           ylabel='count'):\n",
    "#     # obs exp\n",
    "#     # the base scatter:\n",
    "#     sct = axis.scatter(data[xlabel],\n",
    "#                       data[ylabel],\n",
    "#                       # color dots on the scatter by their genomic separation\n",
    "#                       c=data['bin2_id']-data['bin1_id'],\n",
    "#                       vmin=0,\n",
    "#                       vmax = 100,\n",
    "#                       cmap=\"YlOrRd_r\")\n",
    "#     # we can add a visual of the lambda-chunking grid on top of obs/exp scatter ...\n",
    "#     # plt.vlines(ledges[1:-15],ymin=0.5,ymax=900,color='red')\n",
    "#     axis.set_xscale('log')\n",
    "#     axis.set_yscale('log')\n",
    "#     # limits\n",
    "#     axis.set_xlim(0.5,700)\n",
    "#     axis.set_ylim(0.5,1200)\n",
    "#     # labels\n",
    "#     axis.set_ylabel(ylabel)\n",
    "#     axis.set_xlabel(xlabel)\n",
    "#     # return axes\n",
    "#     return sct\n",
    "\n",
    "def quick_obs_exp_scatter_2(data,\n",
    "                          axis,\n",
    "                          xlabel='la_exp.donut.value',\n",
    "                          ylabel='count'):\n",
    "    _data = data.copy()\n",
    "    _data = _data.transform({\n",
    "       xlabel: lambda _: np.log10(_),\n",
    "       ylabel: lambda _: np.log10(_),\n",
    "       \"bin1_id\": lambda _: _*1.*binsize,\n",
    "       \"bin2_id\": lambda _: _*1.*binsize,\n",
    "    }).replace([np.inf, -np.inf], np.nan).dropna(axis=0)\n",
    "    \n",
    "    color_key = \"separation\"\n",
    "    _data[color_key] = np.log(_data['bin2_id'] - _data['bin1_id'])\n",
    "\n",
    "    sct = dsshow(\n",
    "           _data,\n",
    "           ds.Point(xlabel, ylabel),\n",
    "           ds.mean(color_key),\n",
    "           norm='eq_hist',\n",
    "           cmap=\"YlOrRd_r\", #YlOrRd_r #cividis\n",
    "#            aspect=1,\n",
    "           ax=axis)\n",
    "    #     plt.legend(handles=_da2.get_legend_elements());\n",
    "    \n",
    "    # draw an y=x - straight line of obs==exp :\n",
    "    _from,_to = zip(*[\n",
    "        axis.get_xlim(),\n",
    "        axis.get_ylim()\n",
    "    ])\n",
    "    _xy = [max(_from), min(_to)]\n",
    "    axis.plot(_xy, _xy, 'b-', label='obs=exp')\n",
    "    axis.legend(loc='upper left', frameon=False)\n",
    "\n",
    "    axis.set_ylabel(ylabel)\n",
    "    axis.set_xlabel(xlabel)\n",
    "    return sct\n",
    "\n",
    "# fig = plt.figure(figsize=(16,12),constrained_layout=True)\n",
    "# gsp = fig.add_gridspec(2,2)\n",
    "# # fig.add_gridspec(ncols,nrows,width_ratios,height_ratios)\n",
    "# ax1 = fig.add_subplot(gsp[0,0])\n",
    "fig = plt.figure(figsize=(14,8))\n",
    "gs = plt.GridSpec(nrows=1,\n",
    "            ncols=4,\n",
    "            figure=fig,\n",
    "            width_ratios=[1,0.05,1,0.05])\n",
    "\n",
    "# we might consider \"downsampling\" la_exp dataframe in order to make obs/exp scatter plot less busy:\n",
    "data = la_exp #.sample(frac=0.1)\n",
    "\n",
    "ax1 = plt.subplot(gs[0])\n",
    "cax1 = plt.subplot(gs[1])\n",
    "sct1 = quick_obs_exp_scatter_2(data,ax1)\n",
    "fig.colorbar(sct1,\n",
    "             cax=cax1,\n",
    "             shrink=0.99,\n",
    "             pad=-0.1)\n",
    "\n",
    "ax2 = plt.subplot(gs[2])\n",
    "cax2 = plt.subplot(gs[3])\n",
    "sct2 = quick_obs_exp_scatter_2(data,ax2,xlabel=\"la_exp.horizontal.value\")\n",
    "fig.colorbar(sct2,\n",
    "             cax=cax2,\n",
    "             shrink=0.99,\n",
    "             pad=-0.1)\n",
    "# # cbar\n",
    "# cb = plt.colorbar(sct,cax=plt.subplot(gs[1]))\n",
    "# cb.ax.get_yaxis().set_major_locator(ticker.MaxNLocator(1))\n",
    "# # cb.ax.set_yticklabels(['Excluded from calculation','Included in calculations'])\n",
    "\n",
    "# # enriched = data[data[ylabel]/data[xlabel]>1]\n",
    "# # ax.scatter(enriched[xlabel],\n",
    "# #             enriched[ylabel],\n",
    "# #             s=80,\n",
    "# #             facecolors='none',\n",
    "# #             edgecolors='b')"
   ]
  },
  {
   "cell_type": "markdown",
   "metadata": {},
   "source": [
    "Obs vs exp scatter plot highlights the enriched pixels:\n",
    " - pixels that are above the blue line `obs=exp` are all \"enriched\", i.e. for all of them `obs` is more than `exp`.\n",
    " - Problem is, such a naive way of extracting enriched interactions yields too many false positives\n",
    " - should we show a heatmap of all of such \"enriched\" pixels - to demonstrate that it's not so good ?!\n",
    " - we need to do more rigorous statistical analysis to extract \"significantly\" enriched pixels instead."
   ]
  },
  {
   "cell_type": "markdown",
   "metadata": {},
   "source": [
    "# starting from here it requires more cleaning/trimming down ...\n",
    "\n",
    "### Extracting statistically significant interactions\n",
    "\n",
    "So how could one extract significantly enriched interactions instead of calling every marginally brighter pixel \"enriched\" ?\n",
    "\n",
    "We have our *null* hypothesis: intensity of a HiC pixel is Poisson-distributed with a certain expected. In this case that would be *locally-adjusted expected*.\n",
    "\n",
    "Thus for the dot-calling, we could estimate a *p*-value for every pixel based on its observed intensity and its expected intensity:\n",
    "```python\n",
    "from scipy.stats import poisson\n",
    "\n",
    "for k in ktypes:\n",
    "    la_exp[\"la_exp.\"+k+\".pval\"] = 1.0 - \\\n",
    "            poisson.cdf(la_exp[\"count\"],\n",
    "                        la_exp[\"la_exp.\"+k+\".value\"])\n",
    "```\n",
    "\n",
    "However going that route would be technically challenging for the further genome-wide calculations, so we can introduce the *lambda*-chunking procedure introduced in Rao et al 2014 to tackle technicall challenges and some issues associated with the wide dynamic range of the expected for the dot-calling (due to distance decay)."
   ]
  },
  {
   "cell_type": "markdown",
   "metadata": {},
   "source": [
    "# should we keep in some form or go straight to Rao procedure ?!\n",
    "\n",
    "### now let's select pixels that are \"significantly\" brighter than their surroundings ...\n",
    "\n",
    "Just use *naive* p-value thresholding for simplicity and quick turn around.\n",
    "\n",
    "And then see where such \"bright\" pixels end up on the obs/exp scatter plot depending on the p-value threshold"
   ]
  },
  {
   "cell_type": "markdown",
   "metadata": {},
   "source": [
    "### Rao et al 2014 statistics is more nuanced\n",
    "\n",
    " 1. Simple p-value thresholding should be replaced to more \"productive\" FDR, which is more tractable and better suited for the job.\n",
    " 2. Another argument is that it is \"unfair\" to treat all of the pixels with the same statitical testing (multiple hypothesis) - the range of \"expecteds\" is \"too wide\"\n",
    " 3. 2nd point is addressed by spliting the pixels in the groups by their localy adjusted expected - the so-called $\\lambda$-chunking\n",
    " 4. Another nuance of $\\lambda$-chunking is that Rao et al are using the upper boundary of each $\\lambda$-chunk as an expected for every pixel in the chunk (clearly for technical reasons) - we could see how that affects the significance by itself."
   ]
  },
  {
   "cell_type": "code",
   "execution_count": 17,
   "metadata": {},
   "outputs": [
    {
     "data": {
      "text/plain": [
       "(-100, 8500)"
      ]
     },
     "execution_count": 17,
     "metadata": {},
     "output_type": "execute_result"
    },
    {
     "data": {
      "image/png": "[encoded data removed]",
      "text/plain": [
       "<Figure size 432x72 with 1 Axes>"
      ]
     },
     "metadata": {
      "needs_background": "light"
     },
     "output_type": "display_data"
    }
   ],
   "source": [
    "# The essence of lambda-chunking - let's split the surveyed pixels into \"chunks\" based on\n",
    "# their la-expected value and do multiple hypothesis testing separately for these chunks.\n",
    "nlchunks = dotfinder.HiCCUPS_W1_MAX_INDX\n",
    "base = 2 ** (1/3)\n",
    "ledges = np.concatenate((\n",
    "    [-np.inf],\n",
    "    np.logspace(0, nlchunks - 1, num=nlchunks, base=base, dtype=np.float),\n",
    "    [np.inf]))\n",
    "\n",
    "#################################################\n",
    "plt.plot(ledges,np.zeros_like(ledges),'r|')\n",
    "plt.title(\"the $\\lambda$-chunks\")\n",
    "plt.xlabel(\"# of interactions\")\n",
    "fig = plt.gcf()\n",
    "fig.set_size_inches(6,1)\n",
    "ax = plt.gca()\n",
    "ax.set_yticks([])\n",
    "ax.set_xlim(-100,8500)\n",
    "\n",
    "# consider embedding this picture to the markdown section ..."
   ]
  },
  {
   "cell_type": "markdown",
   "metadata": {},
   "source": [
    "### after creating lambda-chunks `ledges` we use them construct histograms of interaction counts in each \"bin\""
   ]
  },
  {
   "cell_type": "markdown",
   "metadata": {},
   "source": [
    "### Assigning pixels to $\\lambda$-chunks:\n",
    "\n",
    " - After defining the bins for the expected (boundaries of $\\lambda$-chunks) let's actually chunk the data\n",
    " - this step involves *de novo* calculation of locally adjusted expected\n",
    " - l.a. expected is used to build histograms of observed data"
   ]
  },
  {
   "cell_type": "code",
   "execution_count": 18,
   "metadata": {},
   "outputs": [
    {
     "name": "stdout",
     "output_type": "stream",
     "text": [
      "Building a histogram for kernel-type donut\n",
      "Building a histogram for kernel-type vertical\n",
      "Building a histogram for kernel-type horizontal\n",
      "Building a histogram for kernel-type lowleft\n"
     ]
    }
   ],
   "source": [
    "gw_hist = dotfinder.histogram_scored_pixels(\n",
    "    scored_df = la_exp,\n",
    "    kernels = kernels,\n",
    "    ledges = ledges,\n",
    "    verbose = 1,\n",
    "    obs_raw_name='count',\n",
    ")"
   ]
  },
  {
   "cell_type": "markdown",
   "metadata": {},
   "source": [
    "### determine thresholds using the fdr thing ...\n",
    "\n",
    "[we should understand a little better - what is going on here with the multiple hypothesis testing, see https://github.com/mirnylab/cooltools/issues/82]\n",
    "\n",
    "long story short:\n",
    " - for each $\\lambda$-chunk we are calculating q-values in an efficient way, skipping calculations of p-values for each surveyed pixel\n",
    " - in part this is achieved by using upper boundary of each $\\lambda$-chunk as an expected for every pixel in this chunk\n",
    " - and in part the efficiency comes from collapsing identical observed values, i.e. histogramming\n",
    " - to be checked: q-values > 1.0 seem to be weird - we need to check if that is ok\n",
    " - also to be comared with the stats-packages implementations - just in case, e.g. `from statsmodels.stats import multitest; multitest.multipletests(pvals,alpha=0.99,method=\"fdr_bh\")`\n"
   ]
  },
  {
   "cell_type": "code",
   "execution_count": 19,
   "metadata": {},
   "outputs": [],
   "source": [
    "# this determines observed thresholds for each chunk and corresponding q-values for every observed value\n",
    "fdr = 0.1\n",
    "threshold_df, qvalues = dotfinder.determine_thresholds(\n",
    "    kernels,\n",
    "    ledges,\n",
    "    gw_hist,\n",
    "    fdr = fdr\n",
    ")"
   ]
  },
  {
   "cell_type": "markdown",
   "metadata": {},
   "source": [
    "### oveview of the 2D histogram \n",
    "\n",
    "x-bins corresponding to the $\\lambda$-chunks and y-bins correspodning to the observed counts ..."
   ]
  },
  {
   "cell_type": "code",
   "execution_count": 20,
   "metadata": {
    "scrolled": false
   },
   "outputs": [
    {
     "data": {
      "text/plain": [
       "<matplotlib.legend.Legend at 0x7fbee4cbc668>"
      ]
     },
     "execution_count": 20,
     "metadata": {},
     "output_type": "execute_result"
    },
    {
     "data": {
      "image/png": "[encoded data removed]",
      "text/plain": [
       "<Figure size 648x432 with 3 Axes>"
      ]
     },
     "metadata": {
      "needs_background": "light"
     },
     "output_type": "display_data"
    }
   ],
   "source": [
    "width, height = 9, 6\n",
    "fig = plt.figure(\n",
    "    figsize=(width,height),\n",
    "    constrained_layout=True\n",
    ")\n",
    "gs = fig.add_gridspec(\n",
    "    nrows=2,\n",
    "    ncols=2,\n",
    "    width_ratios=[10,0.3],\n",
    "    height_ratios=[1,1]\n",
    ")\n",
    "\n",
    "ax1 = fig.add_subplot(gs[0,0])\n",
    "ax2 = fig.add_subplot(gs[1,0],sharex=ax1)\n",
    "cbar_ax = fig.add_subplot(gs[:,1])\n",
    "\n",
    "img = ax1.imshow(\n",
    "    gw_hist[\"donut\"], # reverse cumulative hist: .iloc[::-1].cumsum(axis=0).iloc[::-1],\n",
    "    aspect=\"auto\",\n",
    "    origin=\"lower\",\n",
    "    cmap=\"cividis\",\n",
    "    interpolation=\"nearest\",\n",
    "    norm = LogNorm()\n",
    ")\n",
    "\n",
    "ax1.plot(\n",
    "    np.arange(threshold_df[\"donut\"].values.size),#-0.05,\n",
    "    threshold_df[\"donut\"].values,\n",
    "    color='r',\n",
    "    marker=\"_\",\n",
    "    markersize=9,\n",
    "    linestyle=\"-\",\n",
    "    linewidth=0,\n",
    "    label=f\"FDR {fdr} threshold per chunk,\\nenriched pixels are above\"\n",
    ")\n",
    "\n",
    "ax1.set_ylabel(\"observed raw counts\")\n",
    "# ax1.set_xlabel(\"lambda-chunks, index\")\n",
    "ax1.set_title(\"Distribution of observed raw counts for every $\\lambda$-chunk\")\n",
    "ax1.set_yscale(\"log\")\n",
    "# ax1.legend()\n",
    "ax1.xaxis.set_visible(False)\n",
    "plt.colorbar(img,fraction=0.015,cax=cbar_ax)\n",
    "cbar_ax.set_ylabel(\"number of pixels\")\n",
    "\n",
    "\n",
    "lines = ax2.plot(\n",
    "    ledges[:-1], # lower chunk's bound\n",
    "    \"b_\",\n",
    "    ledges[1:], # upper chunk's bound\n",
    "    \"r_\",\n",
    "    markersize=10,\n",
    ")\n",
    "ax2.set_yscale(\"log\")\n",
    "ax2.set_ylabel(\"raw expected counts\")\n",
    "ax2.set_xlabel(\"lambda-chunks, index\")\n",
    "ax2.legend(\n",
    "    lines,\n",
    "    [\"chunk's lower bound\",\"chunk's upper bound\"]\n",
    ")\n",
    "\n",
    "\n",
    "# beware - not every count is going to be visible on the heatmap - especially in the sparse areas"
   ]
  },
  {
   "cell_type": "markdown",
   "metadata": {},
   "source": [
    "### now extract \"significant\" pixels using the defined thresholds_df and the same parquet file with the score dump as for the histogramming step\n",
    "\n"
   ]
  },
  {
   "cell_type": "code",
   "execution_count": 21,
   "metadata": {},
   "outputs": [],
   "source": [
    "# using these caluclated thresholds of significance, we extract enriched pixels:\n",
    "filtered_pixels = dotfinder.extract_scored_pixels(\n",
    "            scored_df = la_exp,\n",
    "            kernels = kernels,\n",
    "            thresholds = threshold_df,\n",
    "            ledges = ledges,\n",
    "            verbose = True,\n",
    "            obs_raw_name='count',\n",
    "        )"
   ]
  },
  {
   "cell_type": "code",
   "execution_count": 33,
   "metadata": {},
   "outputs": [],
   "source": [
    "# Included to correspond to CLI functions, might be not needed:\n",
    "filtered_pixels = filtered_pixels.sort_values(['bin1_id', 'bin2_id']).reset_index(drop=True)"
   ]
  },
  {
   "cell_type": "code",
   "execution_count": 20,
   "metadata": {},
   "outputs": [],
   "source": [
    "# # arbitrary p-value threshold\n",
    "# p_th = 0.0001\n",
    "\n",
    "# # let's test p-value for all of the 4 filters - feel free to play with individual filters/kernels as well:\n",
    "# signif_pvals = np.ones_like(la_exp[\"la_exp.donut.pval\"].values,dtype=np.bool)\n",
    "# for k in ktypes:\n",
    "#     signif_pvals = signif_pvals & (la_exp[\"la_exp.\"+k+\".pval\"]<=p_th)\n",
    "\n",
    "\n",
    "# # plotting - consider making it shorter:\n",
    "# sct = plt.scatter(la_exp[xlabel],\n",
    "#                   la_exp[ylabel],\n",
    "#                   # color dots on the scatter by their genomic separation\n",
    "#                   c=la_exp['bin2_id']-la_exp['bin1_id'],\n",
    "#                   vmin=0,\n",
    "#                   vmax = 100,\n",
    "#                   cmap=\"YlOrRd_r\")\n",
    "\n",
    "# # let's select pixels with \"small\" p-values:\n",
    "# kinda_signif_pixels = la_exp[signif_pvals]\n",
    "\n",
    "# plt.scatter(kinda_signif_pixels[xlabel],\n",
    "#             kinda_signif_pixels[ylabel],\n",
    "#             s=80,\n",
    "#             facecolors='none',\n",
    "#             edgecolors='b')\n",
    "\n",
    "# # we can add a visual of the lambda-chunking grid on top of obs/exp scatter ...\n",
    "# # plt.vlines(ledges[1:-15],ymin=0.5,ymax=900,color='red')\n",
    "\n",
    "# ax = plt.gca()\n",
    "# fig = plt.gcf()\n",
    "\n",
    "# ax.set_xscale('log')\n",
    "# ax.set_yscale('log')\n",
    "\n",
    "# ax.set_xlim(0.5,700)\n",
    "# ax.set_ylim(0.5,1200)\n",
    "\n",
    "# ax.set_ylabel(\"count\")\n",
    "# ax.set_xlabel(\"la_exp value\")\n",
    "\n",
    "# fig.colorbar(sct)"
   ]
  },
  {
   "cell_type": "code",
   "execution_count": 21,
   "metadata": {},
   "outputs": [],
   "source": [
    "# # here are trying to see the effect of using the chunk boundary as an expected instread of actual expected for a given pixel:\n",
    "\n",
    "# # we can exaggerate the \"ledges\", i.e. make lambda-chunks very wide to see the side effect of replacing expected within each chunk\n",
    "\n",
    "# for k in ktypes:\n",
    "#     la_exp[\"la_exp.\"+k+\".value.chunked\"] = ledges[np.digitize(la_exp[\"la_exp.\"+k+\".value\"],ledges)]\n",
    "    \n",
    "# # recalculate the p-values to take 4th item into account:\n",
    "# for k in ktypes:\n",
    "#     la_exp[\"la_exp.\"+k+\".pval\"] = 1.0 - \\\n",
    "#             poisson.cdf(la_exp[\"count\"],\n",
    "#                         la_exp[\"la_exp.\"+k+\".value.chunked\"])\n",
    "\n",
    "    \n",
    "# # arbitrary p-value threshold\n",
    "# p_th = 0.0001\n",
    "\n",
    "# # let's test p-value for all of the 4 filters - feel free to play with individual filters/kernels as well:\n",
    "# signif_pvals = np.ones_like(la_exp[\"la_exp.donut.pval\"].values,dtype=np.bool)\n",
    "# for k in ktypes:\n",
    "#     signif_pvals = signif_pvals & (la_exp[\"la_exp.\"+k+\".pval\"]<=p_th)\n",
    "\n",
    "\n",
    "# # plotting - consider making it shorter:\n",
    "# sct = plt.scatter(la_exp[xlabel],\n",
    "#                   la_exp[ylabel],\n",
    "#                   # color dots on the scatter by their genomic separation\n",
    "#                   c=la_exp['bin2_id']-la_exp['bin1_id'],\n",
    "#                   vmin=0,\n",
    "#                   vmax = 100,\n",
    "#                   cmap=\"YlOrRd_r\")\n",
    "\n",
    "# # let's select pixels with \"small\" p-values:\n",
    "# kinda_signif_pixels = la_exp[signif_pvals]\n",
    "\n",
    "# plt.scatter(kinda_signif_pixels[xlabel],\n",
    "#             kinda_signif_pixels[ylabel],\n",
    "#             s=80,\n",
    "#             facecolors='none',\n",
    "#             edgecolors='b')\n",
    "\n",
    "# # we can add a visual of the lambda-chunking grid on top of obs/exp scatter ...\n",
    "# plt.vlines(ledges[1:-15],ymin=0.5,ymax=900,color='red')\n",
    "\n",
    "# ax = plt.gca()\n",
    "# fig = plt.gcf()\n",
    "\n",
    "# ax.set_xscale('log')\n",
    "# ax.set_yscale('log')\n",
    "\n",
    "# ax.set_xlim(0.5,700)\n",
    "# ax.set_ylim(0.5,1200)\n",
    "\n",
    "# ax.set_ylabel(\"count\")\n",
    "# ax.set_xlabel(\"la_exp value\")\n",
    "\n",
    "# fig.colorbar(sct)"
   ]
  },
  {
   "cell_type": "markdown",
   "metadata": {},
   "source": [
    "### a histogram for a particular $\\lambda$-chunk"
   ]
  },
  {
   "cell_type": "code",
   "execution_count": 22,
   "metadata": {},
   "outputs": [],
   "source": [
    "# binid = 7\n",
    "# print(gw_hist[\"donut\"].iloc[:,binid].values.sum())\n",
    "# hs = np.clip(gw_hist[\"donut\"].iloc[:,binid].values,a_min=None,a_max=10000)\n",
    "# # hs = np.log(gw_hist[\"donut\"].iloc[:,binid].values)\n",
    "# plt.bar(gw_hist[\"donut\"].iloc[:,binid].index,hs)\n",
    "# plt.bar(threshold_df[\"donut\"].iloc[binid],hs.max(),width=10,color='red')\n",
    "# # plt.gca().set_ylim(0,1)\n",
    "# # plt.gca().set_xlim(0,60)\n",
    "# # gw_hist[\"donut\"].iloc[:,20]"
   ]
  },
  {
   "cell_type": "code",
   "execution_count": 23,
   "metadata": {},
   "outputs": [
    {
     "data": {
      "text/plain": [
       "<matplotlib.colorbar.Colorbar at 0x7f94890c0cf8>"
      ]
     },
     "execution_count": 23,
     "metadata": {},
     "output_type": "execute_result"
    },
    {
     "data": {
      "image/png": "[encoded data removed]",
      "text/plain": [
       "<Figure size 432x288 with 2 Axes>"
      ]
     },
     "metadata": {
      "needs_background": "light"
     },
     "output_type": "display_data"
    }
   ],
   "source": [
    "xlabel = 'la_exp.donut.value'\n",
    "ylabel = 'count'\n",
    "\n",
    "# we might consider \"downsampling\" la_exp dataframe in order to make obs/exp scatter plot less busy:\n",
    "sub_la_exp = la_exp.sample(frac=0.1)\n",
    "\n",
    "sct = plt.scatter(sub_la_exp[xlabel],\n",
    "                  sub_la_exp[ylabel],\n",
    "                  # color dots on the scatter by their genomic separation\n",
    "                  c=sub_la_exp['bin2_id']-sub_la_exp['bin1_id'],\n",
    "                  vmin=0,\n",
    "                  vmax = 100,\n",
    "                  cmap=\"YlOrRd_r\")\n",
    "\n",
    "\n",
    "\n",
    "plt.scatter(filtered_pixels[xlabel],\n",
    "            filtered_pixels[ylabel],\n",
    "            s=20,\n",
    "            facecolors='none',\n",
    "            edgecolors='b')\n",
    "\n",
    "# we can add a visual of the lambda-chunking grid on top of obs/exp scatter ...\n",
    "# plt.vlines(ledges[1:-15],ymin=0.5,ymax=900,color='red')\n",
    "\n",
    "ax = plt.gca()\n",
    "fig = plt.gcf()\n",
    "\n",
    "ax.set_xscale('log')\n",
    "ax.set_yscale('log')\n",
    "\n",
    "ax.set_xlim(0.5,700)\n",
    "ax.set_ylim(0.5,1200)\n",
    "\n",
    "ax.set_ylabel(\"count\")\n",
    "ax.set_xlabel(\"la_exp value\")\n",
    "\n",
    "fig.colorbar(sct)"
   ]
  },
  {
   "cell_type": "markdown",
   "metadata": {},
   "source": [
    "### annotate filtered pixeles and cluster them -> get centroids after that to proceed with post-processing ..."
   ]
  },
  {
   "cell_type": "code",
   "execution_count": 34,
   "metadata": {},
   "outputs": [],
   "source": [
    "filtered_pixels_qvals = dotfinder.annotate_pixels_with_qvalues(filtered_pixels,\n",
    "                                                                qvalues,\n",
    "                                                                kernels)"
   ]
  },
  {
   "cell_type": "code",
   "execution_count": 35,
   "metadata": {},
   "outputs": [
    {
     "data": {
      "text/html": [
       "<div>\n",
       "<style scoped>\n",
       "    .dataframe tbody tr th:only-of-type {\n",
       "        vertical-align: middle;\n",
       "    }\n",
       "\n",
       "    .dataframe tbody tr th {\n",
       "        vertical-align: top;\n",
       "    }\n",
       "\n",
       "    .dataframe thead th {\n",
       "        text-align: right;\n",
       "    }\n",
       "</style>\n",
       "<table border=\"1\" class=\"dataframe\">\n",
       "  <thead>\n",
       "    <tr style=\"text-align: right;\">\n",
       "      <th></th>\n",
       "      <th>bin1_id</th>\n",
       "      <th>bin2_id</th>\n",
       "      <th>count</th>\n",
       "      <th>la_exp.donut.value</th>\n",
       "      <th>la_exp.vertical.value</th>\n",
       "      <th>la_exp.horizontal.value</th>\n",
       "      <th>la_exp.lowleft.value</th>\n",
       "      <th>la_exp.donut.qval</th>\n",
       "      <th>la_exp.vertical.qval</th>\n",
       "      <th>la_exp.horizontal.qval</th>\n",
       "      <th>la_exp.lowleft.qval</th>\n",
       "    </tr>\n",
       "  </thead>\n",
       "  <tbody>\n",
       "    <tr>\n",
       "      <th>0</th>\n",
       "      <td>24</td>\n",
       "      <td>63</td>\n",
       "      <td>200</td>\n",
       "      <td>37.483349</td>\n",
       "      <td>52.568369</td>\n",
       "      <td>39.426171</td>\n",
       "      <td>29.679185</td>\n",
       "      <td>1.361158e-68</td>\n",
       "      <td>1.183617e-39</td>\n",
       "      <td>2.955261e-68</td>\n",
       "      <td>1.584154e-84</td>\n",
       "    </tr>\n",
       "    <tr>\n",
       "      <th>1</th>\n",
       "      <td>24</td>\n",
       "      <td>64</td>\n",
       "      <td>96</td>\n",
       "      <td>38.125550</td>\n",
       "      <td>58.692623</td>\n",
       "      <td>32.771035</td>\n",
       "      <td>38.932091</td>\n",
       "      <td>9.896425e-12</td>\n",
       "      <td>1.902852e-03</td>\n",
       "      <td>1.212370e-11</td>\n",
       "      <td>1.097633e-11</td>\n",
       "    </tr>\n",
       "    <tr>\n",
       "      <th>2</th>\n",
       "      <td>24</td>\n",
       "      <td>66</td>\n",
       "      <td>96</td>\n",
       "      <td>34.313966</td>\n",
       "      <td>42.618940</td>\n",
       "      <td>46.992987</td>\n",
       "      <td>49.608431</td>\n",
       "      <td>9.896425e-12</td>\n",
       "      <td>5.559620e-07</td>\n",
       "      <td>5.215801e-07</td>\n",
       "      <td>4.539548e-07</td>\n",
       "    </tr>\n",
       "    <tr>\n",
       "      <th>3</th>\n",
       "      <td>25</td>\n",
       "      <td>63</td>\n",
       "      <td>83</td>\n",
       "      <td>33.370162</td>\n",
       "      <td>48.137105</td>\n",
       "      <td>37.249194</td>\n",
       "      <td>27.782103</td>\n",
       "      <td>2.164875e-07</td>\n",
       "      <td>5.810874e-04</td>\n",
       "      <td>2.444956e-07</td>\n",
       "      <td>1.146548e-11</td>\n",
       "    </tr>\n",
       "    <tr>\n",
       "      <th>4</th>\n",
       "      <td>25</td>\n",
       "      <td>66</td>\n",
       "      <td>71</td>\n",
       "      <td>31.090400</td>\n",
       "      <td>33.839148</td>\n",
       "      <td>38.936239</td>\n",
       "      <td>40.775457</td>\n",
       "      <td>2.825032e-07</td>\n",
       "      <td>3.803415e-04</td>\n",
       "      <td>3.636654e-04</td>\n",
       "      <td>4.686891e-02</td>\n",
       "    </tr>\n",
       "    <tr>\n",
       "      <th>...</th>\n",
       "      <td>...</td>\n",
       "      <td>...</td>\n",
       "      <td>...</td>\n",
       "      <td>...</td>\n",
       "      <td>...</td>\n",
       "      <td>...</td>\n",
       "      <td>...</td>\n",
       "      <td>...</td>\n",
       "      <td>...</td>\n",
       "      <td>...</td>\n",
       "      <td>...</td>\n",
       "    </tr>\n",
       "    <tr>\n",
       "      <th>12495</th>\n",
       "      <td>32499</td>\n",
       "      <td>32528</td>\n",
       "      <td>71</td>\n",
       "      <td>40.828036</td>\n",
       "      <td>42.112054</td>\n",
       "      <td>49.363398</td>\n",
       "      <td>33.749550</td>\n",
       "      <td>5.604345e-02</td>\n",
       "      <td>6.055405e-02</td>\n",
       "      <td>5.773952e-02</td>\n",
       "      <td>3.029508e-04</td>\n",
       "    </tr>\n",
       "    <tr>\n",
       "      <th>12496</th>\n",
       "      <td>32514</td>\n",
       "      <td>32527</td>\n",
       "      <td>132</td>\n",
       "      <td>84.419010</td>\n",
       "      <td>93.883501</td>\n",
       "      <td>83.137978</td>\n",
       "      <td>93.254834</td>\n",
       "      <td>1.065917e-02</td>\n",
       "      <td>1.430992e-02</td>\n",
       "      <td>1.415998e-02</td>\n",
       "      <td>1.130452e-02</td>\n",
       "    </tr>\n",
       "    <tr>\n",
       "      <th>12497</th>\n",
       "      <td>32516</td>\n",
       "      <td>32528</td>\n",
       "      <td>320</td>\n",
       "      <td>125.894708</td>\n",
       "      <td>129.103725</td>\n",
       "      <td>144.422006</td>\n",
       "      <td>137.172987</td>\n",
       "      <td>7.618612e-45</td>\n",
       "      <td>3.766248e-27</td>\n",
       "      <td>3.067311e-27</td>\n",
       "      <td>2.574726e-27</td>\n",
       "    </tr>\n",
       "    <tr>\n",
       "      <th>12498</th>\n",
       "      <td>32516</td>\n",
       "      <td>32529</td>\n",
       "      <td>228</td>\n",
       "      <td>85.802157</td>\n",
       "      <td>79.274353</td>\n",
       "      <td>110.427028</td>\n",
       "      <td>89.719801</td>\n",
       "      <td>8.579884e-26</td>\n",
       "      <td>5.358240e-39</td>\n",
       "      <td>1.470028e-14</td>\n",
       "      <td>1.021833e-25</td>\n",
       "    </tr>\n",
       "    <tr>\n",
       "      <th>12499</th>\n",
       "      <td>32516</td>\n",
       "      <td>32530</td>\n",
       "      <td>229</td>\n",
       "      <td>114.117864</td>\n",
       "      <td>98.405982</td>\n",
       "      <td>160.600423</td>\n",
       "      <td>110.372538</td>\n",
       "      <td>5.067032e-15</td>\n",
       "      <td>5.917107e-26</td>\n",
       "      <td>1.828233e-06</td>\n",
       "      <td>6.485841e-15</td>\n",
       "    </tr>\n",
       "  </tbody>\n",
       "</table>\n",
       "<p>12500 rows × 11 columns</p>\n",
       "</div>"
      ],
      "text/plain": [
       "       bin1_id  bin2_id  count  la_exp.donut.value  la_exp.vertical.value  \\\n",
       "0           24       63    200           37.483349              52.568369   \n",
       "1           24       64     96           38.125550              58.692623   \n",
       "2           24       66     96           34.313966              42.618940   \n",
       "3           25       63     83           33.370162              48.137105   \n",
       "4           25       66     71           31.090400              33.839148   \n",
       "...        ...      ...    ...                 ...                    ...   \n",
       "12495    32499    32528     71           40.828036              42.112054   \n",
       "12496    32514    32527    132           84.419010              93.883501   \n",
       "12497    32516    32528    320          125.894708             129.103725   \n",
       "12498    32516    32529    228           85.802157              79.274353   \n",
       "12499    32516    32530    229          114.117864              98.405982   \n",
       "\n",
       "       la_exp.horizontal.value  la_exp.lowleft.value  la_exp.donut.qval  \\\n",
       "0                    39.426171             29.679185       1.361158e-68   \n",
       "1                    32.771035             38.932091       9.896425e-12   \n",
       "2                    46.992987             49.608431       9.896425e-12   \n",
       "3                    37.249194             27.782103       2.164875e-07   \n",
       "4                    38.936239             40.775457       2.825032e-07   \n",
       "...                        ...                   ...                ...   \n",
       "12495                49.363398             33.749550       5.604345e-02   \n",
       "12496                83.137978             93.254834       1.065917e-02   \n",
       "12497               144.422006            137.172987       7.618612e-45   \n",
       "12498               110.427028             89.719801       8.579884e-26   \n",
       "12499               160.600423            110.372538       5.067032e-15   \n",
       "\n",
       "       la_exp.vertical.qval  la_exp.horizontal.qval  la_exp.lowleft.qval  \n",
       "0              1.183617e-39            2.955261e-68         1.584154e-84  \n",
       "1              1.902852e-03            1.212370e-11         1.097633e-11  \n",
       "2              5.559620e-07            5.215801e-07         4.539548e-07  \n",
       "3              5.810874e-04            2.444956e-07         1.146548e-11  \n",
       "4              3.803415e-04            3.636654e-04         4.686891e-02  \n",
       "...                     ...                     ...                  ...  \n",
       "12495          6.055405e-02            5.773952e-02         3.029508e-04  \n",
       "12496          1.430992e-02            1.415998e-02         1.130452e-02  \n",
       "12497          3.766248e-27            3.067311e-27         2.574726e-27  \n",
       "12498          5.358240e-39            1.470028e-14         1.021833e-25  \n",
       "12499          5.917107e-26            1.828233e-06         6.485841e-15  \n",
       "\n",
       "[12500 rows x 11 columns]"
      ]
     },
     "execution_count": 35,
     "metadata": {},
     "output_type": "execute_result"
    }
   ],
   "source": [
    "filtered_pixels_qvals"
   ]
  },
  {
   "cell_type": "code",
   "execution_count": 36,
   "metadata": {},
   "outputs": [],
   "source": [
    "filtered_pixels_annotated = cooler.annotate(filtered_pixels_qvals, clr.bins()[:])\n",
    "filtered_pixels_annotated = cooltools.lib.assign_regions(filtered_pixels_annotated, hg38_arms)"
   ]
  },
  {
   "cell_type": "code",
   "execution_count": 37,
   "metadata": {},
   "outputs": [
    {
     "data": {
      "text/html": [
       "<div>\n",
       "<style scoped>\n",
       "    .dataframe tbody tr th:only-of-type {\n",
       "        vertical-align: middle;\n",
       "    }\n",
       "\n",
       "    .dataframe tbody tr th {\n",
       "        vertical-align: top;\n",
       "    }\n",
       "\n",
       "    .dataframe thead th {\n",
       "        text-align: right;\n",
       "    }\n",
       "</style>\n",
       "<table border=\"1\" class=\"dataframe\">\n",
       "  <thead>\n",
       "    <tr style=\"text-align: right;\">\n",
       "      <th></th>\n",
       "      <th>chrom1</th>\n",
       "      <th>start1</th>\n",
       "      <th>end1</th>\n",
       "      <th>weight1</th>\n",
       "      <th>chrom2</th>\n",
       "      <th>start2</th>\n",
       "      <th>end2</th>\n",
       "      <th>weight2</th>\n",
       "      <th>bin1_id</th>\n",
       "      <th>bin2_id</th>\n",
       "      <th>count</th>\n",
       "      <th>la_exp.donut.value</th>\n",
       "      <th>la_exp.vertical.value</th>\n",
       "      <th>la_exp.horizontal.value</th>\n",
       "      <th>la_exp.lowleft.value</th>\n",
       "      <th>la_exp.donut.qval</th>\n",
       "      <th>la_exp.vertical.qval</th>\n",
       "      <th>la_exp.horizontal.qval</th>\n",
       "      <th>la_exp.lowleft.qval</th>\n",
       "      <th>region</th>\n",
       "    </tr>\n",
       "  </thead>\n",
       "  <tbody>\n",
       "    <tr>\n",
       "      <th>0</th>\n",
       "      <td>chr2</td>\n",
       "      <td>240000</td>\n",
       "      <td>250000</td>\n",
       "      <td>0.011884</td>\n",
       "      <td>chr2</td>\n",
       "      <td>630000</td>\n",
       "      <td>640000</td>\n",
       "      <td>0.010623</td>\n",
       "      <td>24</td>\n",
       "      <td>63</td>\n",
       "      <td>200</td>\n",
       "      <td>37.483349</td>\n",
       "      <td>52.568369</td>\n",
       "      <td>39.426171</td>\n",
       "      <td>29.679185</td>\n",
       "      <td>1.361158e-68</td>\n",
       "      <td>1.183617e-39</td>\n",
       "      <td>2.955261e-68</td>\n",
       "      <td>1.584154e-84</td>\n",
       "      <td>chr2_p</td>\n",
       "    </tr>\n",
       "    <tr>\n",
       "      <th>1</th>\n",
       "      <td>chr2</td>\n",
       "      <td>240000</td>\n",
       "      <td>250000</td>\n",
       "      <td>0.011884</td>\n",
       "      <td>chr2</td>\n",
       "      <td>640000</td>\n",
       "      <td>650000</td>\n",
       "      <td>0.009881</td>\n",
       "      <td>24</td>\n",
       "      <td>64</td>\n",
       "      <td>96</td>\n",
       "      <td>38.125550</td>\n",
       "      <td>58.692623</td>\n",
       "      <td>32.771035</td>\n",
       "      <td>38.932091</td>\n",
       "      <td>9.896425e-12</td>\n",
       "      <td>1.902852e-03</td>\n",
       "      <td>1.212370e-11</td>\n",
       "      <td>1.097633e-11</td>\n",
       "      <td>chr2_p</td>\n",
       "    </tr>\n",
       "    <tr>\n",
       "      <th>2</th>\n",
       "      <td>chr2</td>\n",
       "      <td>240000</td>\n",
       "      <td>250000</td>\n",
       "      <td>0.011884</td>\n",
       "      <td>chr2</td>\n",
       "      <td>660000</td>\n",
       "      <td>670000</td>\n",
       "      <td>0.010581</td>\n",
       "      <td>24</td>\n",
       "      <td>66</td>\n",
       "      <td>96</td>\n",
       "      <td>34.313966</td>\n",
       "      <td>42.618940</td>\n",
       "      <td>46.992987</td>\n",
       "      <td>49.608431</td>\n",
       "      <td>9.896425e-12</td>\n",
       "      <td>5.559620e-07</td>\n",
       "      <td>5.215801e-07</td>\n",
       "      <td>4.539548e-07</td>\n",
       "      <td>chr2_p</td>\n",
       "    </tr>\n",
       "    <tr>\n",
       "      <th>3</th>\n",
       "      <td>chr2</td>\n",
       "      <td>250000</td>\n",
       "      <td>260000</td>\n",
       "      <td>0.014055</td>\n",
       "      <td>chr2</td>\n",
       "      <td>630000</td>\n",
       "      <td>640000</td>\n",
       "      <td>0.010623</td>\n",
       "      <td>25</td>\n",
       "      <td>63</td>\n",
       "      <td>83</td>\n",
       "      <td>33.370162</td>\n",
       "      <td>48.137105</td>\n",
       "      <td>37.249194</td>\n",
       "      <td>27.782103</td>\n",
       "      <td>2.164875e-07</td>\n",
       "      <td>5.810874e-04</td>\n",
       "      <td>2.444956e-07</td>\n",
       "      <td>1.146548e-11</td>\n",
       "      <td>chr2_p</td>\n",
       "    </tr>\n",
       "    <tr>\n",
       "      <th>4</th>\n",
       "      <td>chr2</td>\n",
       "      <td>250000</td>\n",
       "      <td>260000</td>\n",
       "      <td>0.014055</td>\n",
       "      <td>chr2</td>\n",
       "      <td>660000</td>\n",
       "      <td>670000</td>\n",
       "      <td>0.010581</td>\n",
       "      <td>25</td>\n",
       "      <td>66</td>\n",
       "      <td>71</td>\n",
       "      <td>31.090400</td>\n",
       "      <td>33.839148</td>\n",
       "      <td>38.936239</td>\n",
       "      <td>40.775457</td>\n",
       "      <td>2.825032e-07</td>\n",
       "      <td>3.803415e-04</td>\n",
       "      <td>3.636654e-04</td>\n",
       "      <td>4.686891e-02</td>\n",
       "      <td>chr2_p</td>\n",
       "    </tr>\n",
       "    <tr>\n",
       "      <th>...</th>\n",
       "      <td>...</td>\n",
       "      <td>...</td>\n",
       "      <td>...</td>\n",
       "      <td>...</td>\n",
       "      <td>...</td>\n",
       "      <td>...</td>\n",
       "      <td>...</td>\n",
       "      <td>...</td>\n",
       "      <td>...</td>\n",
       "      <td>...</td>\n",
       "      <td>...</td>\n",
       "      <td>...</td>\n",
       "      <td>...</td>\n",
       "      <td>...</td>\n",
       "      <td>...</td>\n",
       "      <td>...</td>\n",
       "      <td>...</td>\n",
       "      <td>...</td>\n",
       "      <td>...</td>\n",
       "      <td>...</td>\n",
       "    </tr>\n",
       "    <tr>\n",
       "      <th>12495</th>\n",
       "      <td>chr17</td>\n",
       "      <td>82790000</td>\n",
       "      <td>82800000</td>\n",
       "      <td>0.011820</td>\n",
       "      <td>chr17</td>\n",
       "      <td>83080000</td>\n",
       "      <td>83090000</td>\n",
       "      <td>0.010261</td>\n",
       "      <td>32499</td>\n",
       "      <td>32528</td>\n",
       "      <td>71</td>\n",
       "      <td>40.828036</td>\n",
       "      <td>42.112054</td>\n",
       "      <td>49.363398</td>\n",
       "      <td>33.749550</td>\n",
       "      <td>5.604345e-02</td>\n",
       "      <td>6.055405e-02</td>\n",
       "      <td>5.773952e-02</td>\n",
       "      <td>3.029508e-04</td>\n",
       "      <td>chr17_q</td>\n",
       "    </tr>\n",
       "    <tr>\n",
       "      <th>12496</th>\n",
       "      <td>chr17</td>\n",
       "      <td>82940000</td>\n",
       "      <td>82950000</td>\n",
       "      <td>0.012090</td>\n",
       "      <td>chr17</td>\n",
       "      <td>83070000</td>\n",
       "      <td>83080000</td>\n",
       "      <td>0.011253</td>\n",
       "      <td>32514</td>\n",
       "      <td>32527</td>\n",
       "      <td>132</td>\n",
       "      <td>84.419010</td>\n",
       "      <td>93.883501</td>\n",
       "      <td>83.137978</td>\n",
       "      <td>93.254834</td>\n",
       "      <td>1.065917e-02</td>\n",
       "      <td>1.430992e-02</td>\n",
       "      <td>1.415998e-02</td>\n",
       "      <td>1.130452e-02</td>\n",
       "      <td>chr17_q</td>\n",
       "    </tr>\n",
       "    <tr>\n",
       "      <th>12497</th>\n",
       "      <td>chr17</td>\n",
       "      <td>82960000</td>\n",
       "      <td>82970000</td>\n",
       "      <td>0.009431</td>\n",
       "      <td>chr17</td>\n",
       "      <td>83080000</td>\n",
       "      <td>83090000</td>\n",
       "      <td>0.010261</td>\n",
       "      <td>32516</td>\n",
       "      <td>32528</td>\n",
       "      <td>320</td>\n",
       "      <td>125.894708</td>\n",
       "      <td>129.103725</td>\n",
       "      <td>144.422006</td>\n",
       "      <td>137.172987</td>\n",
       "      <td>7.618612e-45</td>\n",
       "      <td>3.766248e-27</td>\n",
       "      <td>3.067311e-27</td>\n",
       "      <td>2.574726e-27</td>\n",
       "      <td>chr17_q</td>\n",
       "    </tr>\n",
       "    <tr>\n",
       "      <th>12498</th>\n",
       "      <td>chr17</td>\n",
       "      <td>82960000</td>\n",
       "      <td>82970000</td>\n",
       "      <td>0.009431</td>\n",
       "      <td>chr17</td>\n",
       "      <td>83090000</td>\n",
       "      <td>83100000</td>\n",
       "      <td>0.013658</td>\n",
       "      <td>32516</td>\n",
       "      <td>32529</td>\n",
       "      <td>228</td>\n",
       "      <td>85.802157</td>\n",
       "      <td>79.274353</td>\n",
       "      <td>110.427028</td>\n",
       "      <td>89.719801</td>\n",
       "      <td>8.579884e-26</td>\n",
       "      <td>5.358240e-39</td>\n",
       "      <td>1.470028e-14</td>\n",
       "      <td>1.021833e-25</td>\n",
       "      <td>chr17_q</td>\n",
       "    </tr>\n",
       "    <tr>\n",
       "      <th>12499</th>\n",
       "      <td>chr17</td>\n",
       "      <td>82960000</td>\n",
       "      <td>82970000</td>\n",
       "      <td>0.009431</td>\n",
       "      <td>chr17</td>\n",
       "      <td>83100000</td>\n",
       "      <td>83110000</td>\n",
       "      <td>0.009403</td>\n",
       "      <td>32516</td>\n",
       "      <td>32530</td>\n",
       "      <td>229</td>\n",
       "      <td>114.117864</td>\n",
       "      <td>98.405982</td>\n",
       "      <td>160.600423</td>\n",
       "      <td>110.372538</td>\n",
       "      <td>5.067032e-15</td>\n",
       "      <td>5.917107e-26</td>\n",
       "      <td>1.828233e-06</td>\n",
       "      <td>6.485841e-15</td>\n",
       "      <td>chr17_q</td>\n",
       "    </tr>\n",
       "  </tbody>\n",
       "</table>\n",
       "<p>12500 rows × 20 columns</p>\n",
       "</div>"
      ],
      "text/plain": [
       "      chrom1    start1      end1   weight1 chrom2    start2      end2  \\\n",
       "0       chr2    240000    250000  0.011884   chr2    630000    640000   \n",
       "1       chr2    240000    250000  0.011884   chr2    640000    650000   \n",
       "2       chr2    240000    250000  0.011884   chr2    660000    670000   \n",
       "3       chr2    250000    260000  0.014055   chr2    630000    640000   \n",
       "4       chr2    250000    260000  0.014055   chr2    660000    670000   \n",
       "...      ...       ...       ...       ...    ...       ...       ...   \n",
       "12495  chr17  82790000  82800000  0.011820  chr17  83080000  83090000   \n",
       "12496  chr17  82940000  82950000  0.012090  chr17  83070000  83080000   \n",
       "12497  chr17  82960000  82970000  0.009431  chr17  83080000  83090000   \n",
       "12498  chr17  82960000  82970000  0.009431  chr17  83090000  83100000   \n",
       "12499  chr17  82960000  82970000  0.009431  chr17  83100000  83110000   \n",
       "\n",
       "        weight2  bin1_id  bin2_id  count  la_exp.donut.value  \\\n",
       "0      0.010623       24       63    200           37.483349   \n",
       "1      0.009881       24       64     96           38.125550   \n",
       "2      0.010581       24       66     96           34.313966   \n",
       "3      0.010623       25       63     83           33.370162   \n",
       "4      0.010581       25       66     71           31.090400   \n",
       "...         ...      ...      ...    ...                 ...   \n",
       "12495  0.010261    32499    32528     71           40.828036   \n",
       "12496  0.011253    32514    32527    132           84.419010   \n",
       "12497  0.010261    32516    32528    320          125.894708   \n",
       "12498  0.013658    32516    32529    228           85.802157   \n",
       "12499  0.009403    32516    32530    229          114.117864   \n",
       "\n",
       "       la_exp.vertical.value  la_exp.horizontal.value  la_exp.lowleft.value  \\\n",
       "0                  52.568369                39.426171             29.679185   \n",
       "1                  58.692623                32.771035             38.932091   \n",
       "2                  42.618940                46.992987             49.608431   \n",
       "3                  48.137105                37.249194             27.782103   \n",
       "4                  33.839148                38.936239             40.775457   \n",
       "...                      ...                      ...                   ...   \n",
       "12495              42.112054                49.363398             33.749550   \n",
       "12496              93.883501                83.137978             93.254834   \n",
       "12497             129.103725               144.422006            137.172987   \n",
       "12498              79.274353               110.427028             89.719801   \n",
       "12499              98.405982               160.600423            110.372538   \n",
       "\n",
       "       la_exp.donut.qval  la_exp.vertical.qval  la_exp.horizontal.qval  \\\n",
       "0           1.361158e-68          1.183617e-39            2.955261e-68   \n",
       "1           9.896425e-12          1.902852e-03            1.212370e-11   \n",
       "2           9.896425e-12          5.559620e-07            5.215801e-07   \n",
       "3           2.164875e-07          5.810874e-04            2.444956e-07   \n",
       "4           2.825032e-07          3.803415e-04            3.636654e-04   \n",
       "...                  ...                   ...                     ...   \n",
       "12495       5.604345e-02          6.055405e-02            5.773952e-02   \n",
       "12496       1.065917e-02          1.430992e-02            1.415998e-02   \n",
       "12497       7.618612e-45          3.766248e-27            3.067311e-27   \n",
       "12498       8.579884e-26          5.358240e-39            1.470028e-14   \n",
       "12499       5.067032e-15          5.917107e-26            1.828233e-06   \n",
       "\n",
       "       la_exp.lowleft.qval   region  \n",
       "0             1.584154e-84   chr2_p  \n",
       "1             1.097633e-11   chr2_p  \n",
       "2             4.539548e-07   chr2_p  \n",
       "3             1.146548e-11   chr2_p  \n",
       "4             4.686891e-02   chr2_p  \n",
       "...                    ...      ...  \n",
       "12495         3.029508e-04  chr17_q  \n",
       "12496         1.130452e-02  chr17_q  \n",
       "12497         2.574726e-27  chr17_q  \n",
       "12498         1.021833e-25  chr17_q  \n",
       "12499         6.485841e-15  chr17_q  \n",
       "\n",
       "[12500 rows x 20 columns]"
      ]
     },
     "execution_count": 37,
     "metadata": {},
     "output_type": "execute_result"
    }
   ],
   "source": [
    "filtered_pixels_annotated"
   ]
  },
  {
   "cell_type": "code",
   "execution_count": 38,
   "metadata": {},
   "outputs": [
    {
     "data": {
      "text/plain": [
       "array(['chr2_p', 'chr2_q', 'chr17_p', 'chr17_q'], dtype=object)"
      ]
     },
     "execution_count": 38,
     "metadata": {},
     "output_type": "execute_result"
    }
   ],
   "source": [
    "expected_regions = expected.reset_index()[\"region\"].unique()\n",
    "expected_regions"
   ]
  },
  {
   "cell_type": "code",
   "execution_count": 39,
   "metadata": {},
   "outputs": [
    {
     "name": "stdout",
     "output_type": "stream",
     "text": [
      "Clustering is completed:\n",
      "977 clusters detected\n",
      "3.65+/-3.42 mean size\n",
      "\n",
      "Clustering is completed:\n",
      "1541 clusters detected\n",
      "3.59+/-3.23 mean size\n",
      "\n",
      "Clustering is completed:\n",
      "242 clusters detected\n",
      "3.44+/-3.08 mean size\n",
      "\n",
      "Clustering is completed:\n",
      "682 clusters detected\n",
      "3.76+/-3.27 mean size\n",
      "\n",
      "Clustering is over!\n",
      "Number of clustered pixels, i.e. centroids 3442\n"
     ]
    }
   ],
   "source": [
    "# filtered_pixels_annotated = cooler.annotate(filtered_pixels_qvals, clr.bins()[:])\n",
    "centroids = dotfinder.clustering_step(\n",
    "    filtered_pixels_annotated, \n",
    "    expected_regions, \n",
    "    dots_clustering_radius, \n",
    "    verbose\n",
    "    )\n",
    "print(\"Number of clustered pixels, i.e. centroids {}\".format(len(centroids)))"
   ]
  },
  {
   "cell_type": "code",
   "execution_count": 40,
   "metadata": {},
   "outputs": [],
   "source": [
    "final_out = dotfinder.thresholding_step(centroids)"
   ]
  },
  {
   "cell_type": "code",
   "execution_count": 41,
   "metadata": {},
   "outputs": [
    {
     "data": {
      "text/plain": [
       "2454"
      ]
     },
     "execution_count": 41,
     "metadata": {},
     "output_type": "execute_result"
    }
   ],
   "source": [
    "len(final_out)"
   ]
  },
  {
   "cell_type": "markdown",
   "metadata": {},
   "source": [
    "## stuff that require clean up, but might be usefull in general "
   ]
  },
  {
   "cell_type": "code",
   "execution_count": 42,
   "metadata": {},
   "outputs": [
    {
     "name": "stderr",
     "output_type": "stream",
     "text": [
      "/home/agalicina/anaconda3/envs/python37/lib/python3.6/site-packages/ipykernel_launcher.py:11: RuntimeWarning: divide by zero encountered in log\n",
      "  # This is added back by InteractiveShellApp.init_path()\n"
     ]
    },
    {
     "data": {
      "text/plain": [
       "<matplotlib.image.AxesImage at 0x7fbecb1d8b00>"
      ]
     },
     "execution_count": 42,
     "metadata": {},
     "output_type": "execute_result"
    },
    {
     "data": {
      "image/png": "[encoded data removed]",
      "text/plain": [
       "<Figure size 432x288 with 1 Axes>"
      ]
     },
     "metadata": {
      "needs_background": "light"
     },
     "output_type": "display_data"
    }
   ],
   "source": [
    "# plt.imshow(np.log(clr.matrix()[18030:18100,18030:18100]),cmap='YlOrRd')\n",
    "# plt.scatter(53,18,s=80, facecolors='none', edgecolors='b')\n",
    "\n",
    "bin1,bin2 = 18030+18,18030+53\n",
    "\n",
    "bin1_n,bin2_n = 18030+23,18030+49\n",
    "\n",
    "\n",
    "bin1,bin2 = 24322, 24334\n",
    "\n",
    "plt.imshow(np.log(clr.matrix(balance=True)[bin1-20:bin1+20,bin2-20:bin2+20]),cmap='YlOrRd')\n",
    "\n",
    "# something to have in mind - is the difference between JUicer balancing and cooler balacning ...\n",
    "# MAD max filtering in particular\n",
    "# in Juicer some of thesparse/low coverage regions are kept - what re the effects on the distriubtions, etc\n",
    "# to be seen\n",
    "# here is the region for reference: chr1:242,019,651-244,387,558 & chr1:242,713,339-243,695,154 [offset 0,0:0,0]\n",
    "\n",
    "# dddd = cccc[(cccc['bin1_id']==bin1)&(cccc['bin2_id']==bin2)]\n",
    "# eeee = cccc[(cccc['bin1_id']==bin1_n)&(cccc['bin2_id']==bin2_n)]\n",
    "\n",
    "# (cccc['bin2_id']-cccc['bin1_id']).min()"
   ]
  },
  {
   "cell_type": "code",
   "execution_count": 43,
   "metadata": {},
   "outputs": [
    {
     "data": {
      "text/plain": [
       "Text(0, 0.5, 'la_exp value')"
      ]
     },
     "execution_count": 43,
     "metadata": {},
     "output_type": "execute_result"
    },
    {
     "data": {
      "image/png": "[encoded data removed]",
      "text/plain": [
       "<Figure size 432x288 with 1 Axes>"
      ]
     },
     "metadata": {
      "needs_background": "light"
     },
     "output_type": "display_data"
    }
   ],
   "source": [
    "# also supplementary stuff to note\n",
    "# about the previous point - how do we ended up having super small la_exp at small genomic separatrions ...\n",
    "xlabel = 'la_exp.donut.value'\n",
    "ylabel = 'count'\n",
    "\n",
    "plt.scatter(la_exp['bin2_id']-la_exp['bin1_id'],(la_exp[xlabel]))\n",
    "# plt.scatter(dddd[xlabel],dddd[ylabel], s=80, facecolors='none', edgecolors='r')\n",
    "# plt.scatter(eeee[xlabel],eeee[ylabel], s=80, facecolors='none', edgecolors='y')\n",
    "\n",
    "ax = plt.gca()\n",
    "\n",
    "ax.set_xlabel(\"genomic separation\")\n",
    "ax.set_ylabel(\"la_exp value\")"
   ]
  },
  {
   "cell_type": "code",
   "execution_count": null,
   "metadata": {},
   "outputs": [],
   "source": []
  }
 ],
 "metadata": {
  "kernelspec": {
   "display_name": "Python 3 (ipykernel)",
   "language": "python",
   "name": "python3"
  },
  "language_info": {
   "codemirror_mode": {
    "name": "ipython",
    "version": 3
   },
   "file_extension": ".py",
   "mimetype": "text/x-python",
   "name": "python",
   "nbconvert_exporter": "python",
   "pygments_lexer": "ipython3",
   "version": "3.7.12"
  }
 },
 "nbformat": 4,
 "nbformat_minor": 2
}
